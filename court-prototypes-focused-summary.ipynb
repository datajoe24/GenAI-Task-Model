{
 "cells": [
  {
   "cell_type": "code",
   "execution_count": 2,
   "id": "9ff8af5f-fb86-43fd-abdb-d4f78ceb1ff7",
   "metadata": {},
   "outputs": [],
   "source": [
    "# %%capture\n",
    "\n",
    "# %pip install --upgrade transformers datasets jsonlines ai21 langchain chromadb boto3"
   ]
  },
  {
   "cell_type": "code",
   "execution_count": 3,
   "id": "2b233150-bbf5-4656-a784-3c964b1333d3",
   "metadata": {},
   "outputs": [
    {
     "name": "stderr",
     "output_type": "stream",
     "text": [
      "/Users/famestad/.pyenv/versions/3.11.3/lib/python3.11/site-packages/tqdm/auto.py:21: TqdmWarning: IProgress not found. Please update jupyter and ipywidgets. See https://ipywidgets.readthedocs.io/en/stable/user_install.html\n",
      "  from .autonotebook import tqdm as notebook_tqdm\n"
     ]
    }
   ],
   "source": [
    "import transformers\n",
    "from datasets import load_dataset\n",
    "\n",
    "dataset = load_dataset(\"pasinit/scotus\",\n",
    "                      split='train')"
   ]
  },
  {
   "cell_type": "code",
   "execution_count": 4,
   "id": "df2c6585-f7cd-4186-bdcd-d2c438ea0c65",
   "metadata": {},
   "outputs": [],
   "source": [
    "# dataset.select([1, 2])[0]"
   ]
  },
  {
   "cell_type": "code",
   "execution_count": 5,
   "id": "84421523-3ec3-4a87-b753-03793553018b",
   "metadata": {},
   "outputs": [],
   "source": [
    "sample_texts = [it['text'] for it in dataset.select([3, 6, 9])]"
   ]
  },
  {
   "cell_type": "code",
   "execution_count": 6,
   "id": "cf2371ce-fdee-47c9-903e-fd7fa11674b8",
   "metadata": {},
   "outputs": [],
   "source": [
    "# sample_texts[0]"
   ]
  },
  {
   "cell_type": "code",
   "execution_count": 7,
   "id": "9b22111d-cbd1-4a23-abd8-dcff62b608c3",
   "metadata": {},
   "outputs": [],
   "source": [
    "import ai21\n",
    "\n",
    "api_key = 'gAXhJl0FdF9SvRIdd90WYFoXBIk1uilx'\n",
    "\n",
    "ai21.api_key = api_key"
   ]
  },
  {
   "cell_type": "code",
   "execution_count": 8,
   "id": "f56f8a02-f1a6-4bdf-a116-957ba73a6997",
   "metadata": {},
   "outputs": [],
   "source": [
    "import json"
   ]
  },
  {
   "cell_type": "markdown",
   "id": "04704521-517a-4810-a8cf-ad329bb78b8b",
   "metadata": {},
   "source": [
    "- Who is the plaintiff?\n",
    "- Who is the defendant?\n",
    "- What is this case about?\n",
    "- Why is this case important?\n",
    "- Summarize the plaintiffs argument\n",
    "- Summarize the defendants argument\n",
    "- Extract the list of key points in the plaintiffs argument\n",
    "- Extract the list of key points in the defendants argument\n",
    "- Identify uncontested facts (occur in both arguments)\n",
    "- Identify contested facts (conflicts between the arguments)\n",
    "- Summary of the judgement\n",
    "- Summary of dissenting argument"
   ]
  },
  {
   "cell_type": "code",
   "execution_count": null,
   "id": "f754d9d2-20c1-4f7f-b99b-cd239aee1d25",
   "metadata": {},
   "outputs": [],
   "source": []
  },
  {
   "cell_type": "code",
   "execution_count": 26,
   "id": "d0fc139e-45d2-4d01-85d6-09468062e451",
   "metadata": {},
   "outputs": [
    {
     "data": {
      "text/plain": [
       "\"Petitioner was convicted of robbing the manager, but was acquitted on retrial. He was then found guilty of robbing the customer.\\nThe double jeopardy provision vitiates petitioner's conviction. He was retried on the same charge and acquitted, but was given a 30-year sentence.\\nThis Court held in Ashe v. Swenson that collateral estoppel is fully applicable to the States and that the identity of the robber was the sole disputed issue at each of his trials.\\nThe Supreme Court of Florida declined to review Simpson v. State, and the case was remanded to the district court for further proceedings not inconsistent with this opinion.\\nThe robbery of the manager and the robbery of the customer grew out of one criminal episode.\""
      ]
     },
     "execution_count": 26,
     "metadata": {},
     "output_type": "execute_result"
    }
   ],
   "source": [
    "import json\n",
    "\n",
    "def summarize(text, focus=None):\n",
    "    response = ai21.Summarize.execute(\n",
    "        source=text,\n",
    "        sourceType=\"TEXT\",\n",
    "        focus=focus\n",
    "    )\n",
    "    return response['summary']\n",
    "\n",
    "summarize(sample_texts[0])"
   ]
  },
  {
   "cell_type": "markdown",
   "id": "b8a2abc7-2b8b-4fa4-b9fa-a4888b67b297",
   "metadata": {},
   "source": []
  },
  {
   "cell_type": "code",
   "execution_count": 27,
   "id": "01e43f8a-74b3-430a-818d-f774d913116f",
   "metadata": {},
   "outputs": [
    {
     "data": {
      "text/plain": [
       "\"Petitioner was acquitted of robbing the manager, but was found guilty of robbing the customer. The District Court of Appeal held that the double collateral estoppel provision vitiated his conviction.\\nA conviction was reversed on appeal because the trial judge neglected to instruct the jury on the lesser-included offense of larceny.\\nIn 1968 petitioner was acquitted on the same charge and subsequently charged with robbing a customer. He appealed to the District Court of Appeal and this Court held that collateral estoppel is fully applicable to the States.\\nIn Ashe, the court held that a previous judgment of acquittal based on a general verdict could be reexamined to determine whether a rational jury could have grounded its verdict upon an issue other than that which the defendant seeks to foreclose from consideration.\\nPetitioner could not have been retried a third time on the charge of robbing the store manager because he had previously secured a jury verdict of guilty and one of acquittal.\\nThe judgment of the Florida District Court of Appeal is vacated and the case is remanded to that court.\\nI agree with the Court's disposition, but would also hold that the Double Jeopardy Clause prohibited Florida from prosecuting petitioner for the robbery of the customer.\""
      ]
     },
     "execution_count": 27,
     "metadata": {},
     "output_type": "execute_result"
    }
   ],
   "source": [
    "summarize(sample_texts[0],\n",
    "         focus='decision')"
   ]
  },
  {
   "cell_type": "markdown",
   "id": "53e4d025-53b8-496e-8afc-4d090aa27bbf",
   "metadata": {},
   "source": [
    "**Petitioner was acquitted** of robbing the manager, **but was found guilty of robbing the customer**. The District Court of Appeal **held that the double collateral estoppel provision vitiated his conviction**.\\nA **conviction was reversed** on appeal because the trial judge neglected to instruct the jury on the lesser-included offense of larceny.\\nIn 1968 petitioner was acquitted on the same charge and subsequently charged with robbing a customer. He appealed to the District Court of Appeal and this Court held that collateral estoppel is fully applicable to the States.\\nIn Ashe, the **court held that a previous judgment of acquittal based on a general verdict could be reexamined** to determine whether a rational jury could have grounded its verdict upon an issue other than that which the defendant seeks to foreclose from consideration.\\nPetitioner could not have been retried a third time on the charge of robbing the store manager because he had previously secured a jury verdict of guilty and one of acquittal.\\nThe **judgment of the Florida District Court of Appeal is vacated and the case is remanded to that court**.\\nI agree with the Court's disposition, but would also hold that the Double Jeopardy Clause prohibited Florida from prosecuting petitioner for the robbery of the customer."
   ]
  },
  {
   "cell_type": "code",
   "execution_count": 28,
   "id": "b1ab6f1d-43b4-42e4-b64e-fc2bd17a15eb",
   "metadata": {},
   "outputs": [
    {
     "data": {
      "text/plain": [
       "\"The factual situation presented in Ashe remarkably parallels that of the instant case. The defendant was acquitted of robbing one of the poker players, but was later tried and convicted of robbing another.\\nThe facts of this case support the Court's decision that the Double Jeopardy Clause prohibited Florida from prosecuting petitioner for the robbery of the customer.\""
      ]
     },
     "execution_count": 28,
     "metadata": {},
     "output_type": "execute_result"
    }
   ],
   "source": [
    "summarize(sample_texts[0],\n",
    "         focus='facts')"
   ]
  },
  {
   "cell_type": "code",
   "execution_count": 34,
   "id": "3717b709-dd42-45b9-b548-b9e8f8181f40",
   "metadata": {},
   "outputs": [
    {
     "data": {
      "text/plain": [
       "\"Petitioner was convicted of robbing the manager, but on retrial he was acquitted. The State Supreme Court denied review, and the case was vacated and remanded.\\nIn 1968 petitioner was retried on the same charge and acquitted. He was then charged with robbing a customer and found guilty.\\nPetitioner was acquitted on a charge of robbing one of the poker players, but was later tried and convicted of robbing a second.\\nPetitioner contends that his identity as one of the robbers was the sole disputed issue at each of his trials, but the District Court of Appeal declined to examine the record of the second trial.\\nThe ground upon which the state court resolved petitioner's contention is plainly not tenable.\\nPetitioner could not have been retried a third time on the charge of robbing the store manager because he had previously secured a jury verdict of guilty as well as one of acquittal.\""
      ]
     },
     "execution_count": 34,
     "metadata": {},
     "output_type": "execute_result"
    }
   ],
   "source": [
    "summarize(sample_texts[0],\n",
    "         focus='petitioner argument')"
   ]
  },
  {
   "cell_type": "markdown",
   "id": "2179a322-1412-4093-9e9b-836a4ba795d2",
   "metadata": {},
   "source": [
    "Petitioner was convicted of robbing the manager, but on retrial he was acquitted. The State Supreme Court denied review, and the case was vacated and remanded.\\nIn 1968 petitioner was retried on the same charge and acquitted. He was then charged with robbing a customer and found guilty.\\nPetitioner was acquitted on a charge of robbing one of the poker players, but was later tried and convicted of robbing a second.\\n**Petitioner contends that his identity as one of the robbers was the sole disputed issue at each of his trials**, but the District Court of Appeal declined to examine the record of the second trial.\\nThe ground upon which the state court resolved petitioner's contention is plainly not tenable.\\nPetitioner could not have been retried a third time on the charge of robbing the store manager because he had previously secured a jury verdict of guilty as well as one of acquittal."
   ]
  },
  {
   "cell_type": "code",
   "execution_count": 40,
   "id": "fe737fff-a517-4d25-8d15-e570e32c1227",
   "metadata": {},
   "outputs": [
    {
     "name": "stderr",
     "output_type": "stream",
     "text": [
      "Calling POST https://api.ai21.com/studio/v1/summarize failed with a non-200 response code: 422\n"
     ]
    },
    {
     "name": "stdout",
     "output_type": "stream",
     "text": [
      "- plaintiff: Petitioner was tried and convicted of robbing the manager, but on retrial he was acquitted. The State Supreme Court denied review, and the case was vacated and remanded.\n",
      "Petitioner was convicted of armed robbery of a store in Jacksonville, Florida, but the conviction was reversed on appeal.\n",
      "In 1968, petitioner was retried on the same charge and acquitted. He was then charged with robbing a customer and found guilty.\n",
      "The defendant in Ashe argued that the prohibition against double jeopardy operated as a bar to the second prosecution because the only issue in each trial was the identity of the robbers.\n",
      "Petitioner contends that his identity as one of the robbers was the sole disputed issue at each of his trials, but the District Court of Appeal declined to examine the record of the second trial.\n",
      "The state court resolved petitioner's contention on the ground of mutuality.\n",
      "Petitioner could not have been retried a third time on the charge of robbing the store manager because he had previously secured a jury verdict of guilty and one of acquittal.\n",
      "The robbery of the manager and the robbery of the customer grew out of one criminal episode.\n",
      "\n",
      "- respondant arguments: Petitioner contends that his identity as one of the robbers was the sole disputed issue at each of his trials, but the District Court of Appeal declined to examine the record of the second trial.\n",
      "\n",
      "- outcome: In 1968 petitioner was acquitted of the same charge and subsequently charged with robbing a customer. The trial court imposed a 30-year sentence and petitioner appealed.\n",
      "In Ashe, a man was acquitted of robbing one of the poker players, but was later tried and convicted of robbing another.\n",
      "I agree with the Court's disposition, but would also hold that the Double Jeopardy Clause prohibited Florida from prosecuting petitioner for the robbery of the customer.\n",
      "\n",
      "- judgement: Petitioner was tried and convicted of robbing the manager, but on retrial he was acquitted. The District Court of Appeal held that the jury verdict at the first trial gave rise to a double collateral estoppel, which allowed the State to rely on the first trial verdict.\n",
      "A man was convicted of armed robbery, but the conviction was reversed on appeal because the trial judge neglected to instruct the jury on the lesser-included offense of larceny.\n",
      "In 1968 petitioner was retried on the same charge and acquitted. He was then charged with robbing a customer and found guilty.\n",
      "The factual situation presented in Ashe remarkably parallels that of the instant case. The defendant was acquitted by a general jury verdict on a charge of robbing one of the poker players, but was later tried and convicted of robbing another.\n",
      "Petitioner contends that his identity as one of the robbers was the sole disputed issue at each of his trials, but the District Court of Appeal declined to examine the record of the second trial.\n",
      "The ground upon which the state court resolved petitioner's contention is plainly not tenable.\n",
      "The state could not have retried petitioner a third time on the charge of robbing the store manager because it had previously secured a jury verdict of guilty and one of acquittal.\n",
      "The judgment of the Florida District Court of Appeal is vacated and the case is remanded to that court for further proceedings.\n",
      "I agree with the Court's disposition, but would also hold that the Double Jeopardy Clause prohibited Florida from prosecuting petitioner for the robbery of the customer.\n",
      "\n",
      "- dissenting judgement: A dissenting judgement was issued in Griffin v. State, 202 So.2d 602 (Fla. Dist. Ct. App. 1967).\n",
      "The dissenting judgement is vacated and the case is remanded to the Florida District Court of Appeal.\n",
      "\n"
     ]
    }
   ],
   "source": [
    "def build_focus_summaries(text, foci):\n",
    "    result = []\n",
    "    for focus in foci:\n",
    "        try:\n",
    "            response = ai21.Summarize.execute(\n",
    "                source = text,\n",
    "                sourceType = \"TEXT\",\n",
    "                focus = focus\n",
    "            )\n",
    "            result.append(response.summary)\n",
    "        except:\n",
    "            pass\n",
    "    return result\n",
    "\n",
    "foci = [\"plaintiff\", \"respondant arguments\", \"outcome\", \"judgement\", \"dissenting judgement\", \"footnotes\"]\n",
    "summaries = build_focus_summaries(sample_texts[0], foci)\n",
    "\n",
    "for idx, summary in enumerate(summaries):\n",
    "    print(f\"\"\"- {foci[idx]}: {summary}\\n\"\"\")"
   ]
  },
  {
   "cell_type": "code",
   "execution_count": 41,
   "id": "43e0660f-befc-4562-a80a-72f835a4b629",
   "metadata": {},
   "outputs": [
    {
     "name": "stdout",
     "output_type": "stream",
     "text": [
      "6873\n"
     ]
    }
   ],
   "source": [
    "# Using Simple Regex Based on Section Breaks in Document\n",
    "\n",
    "import re\n",
    "\n",
    "pattern = r\"^\\s*[A-Z]{2,}\\s*$\"\n",
    "\n",
    "matches = re.findall(pattern, sample_texts[0], re.MULTILINE)\n",
    "for match in matches:\n",
    "    print(\"Match:\", match.strip())\n",
    "\n",
    "chunks = re.split(pattern, sample_texts[0], flags=re.MULTILINE)\n",
    "filtered_chunks = [s for s in chunks if len(s) > 0]\n",
    "for chunk in filtered_chunks:\n",
    "    print(len(chunk))"
   ]
  },
  {
   "cell_type": "code",
   "execution_count": null,
   "id": "bbf4b736-6e8c-49ce-9890-4f41efd583af",
   "metadata": {},
   "outputs": [],
   "source": []
  },
  {
   "cell_type": "code",
   "execution_count": null,
   "id": "5c20175e-5022-4f12-a4a9-76d6065a0f81",
   "metadata": {},
   "outputs": [],
   "source": []
  },
  {
   "cell_type": "code",
   "execution_count": null,
   "id": "b266177a-7fcc-4656-9034-e1f8844e0376",
   "metadata": {},
   "outputs": [],
   "source": []
  },
  {
   "cell_type": "code",
   "execution_count": null,
   "id": "16fd040d-582f-418d-bc54-c78ee6f4d133",
   "metadata": {},
   "outputs": [],
   "source": []
  },
  {
   "cell_type": "code",
   "execution_count": null,
   "id": "57fd2962-c359-45a0-8bbe-1481fdb2e52d",
   "metadata": {},
   "outputs": [],
   "source": []
  },
  {
   "cell_type": "code",
   "execution_count": null,
   "id": "9577dc7e-f84a-4c3e-9e18-7ffa2a485254",
   "metadata": {},
   "outputs": [],
   "source": []
  },
  {
   "cell_type": "code",
   "execution_count": null,
   "id": "1974d55c-84bf-4971-b775-beb0f70d0896",
   "metadata": {},
   "outputs": [],
   "source": []
  },
  {
   "cell_type": "code",
   "execution_count": null,
   "id": "694a1a6d-08b8-4ac5-a797-32d36daa9199",
   "metadata": {},
   "outputs": [],
   "source": []
  },
  {
   "cell_type": "code",
   "execution_count": null,
   "id": "22aef89b-8ea4-4588-95a2-80712f4ad0f8",
   "metadata": {},
   "outputs": [],
   "source": []
  },
  {
   "cell_type": "code",
   "execution_count": null,
   "id": "08f244d2-0340-42df-b3ab-0df451e1b400",
   "metadata": {},
   "outputs": [],
   "source": []
  },
  {
   "cell_type": "code",
   "execution_count": null,
   "id": "437d336f-b2d5-4902-bc55-09e6189c2903",
   "metadata": {},
   "outputs": [],
   "source": []
  },
  {
   "cell_type": "code",
   "execution_count": null,
   "id": "e3d9cfc2-cfa2-4cdf-a686-2cd236de1bbc",
   "metadata": {},
   "outputs": [],
   "source": []
  }
 ],
 "metadata": {
  "kernelspec": {
   "display_name": "Python 3 (ipykernel)",
   "language": "python",
   "name": "python3"
  },
  "language_info": {
   "codemirror_mode": {
    "name": "ipython",
    "version": 3
   },
   "file_extension": ".py",
   "mimetype": "text/x-python",
   "name": "python",
   "nbconvert_exporter": "python",
   "pygments_lexer": "ipython3",
   "version": "3.11.3"
  }
 },
 "nbformat": 4,
 "nbformat_minor": 5
}
