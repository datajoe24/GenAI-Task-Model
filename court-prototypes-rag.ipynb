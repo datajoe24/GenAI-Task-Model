{
 "cells": [
  {
   "cell_type": "code",
   "execution_count": 1,
   "id": "9ff8af5f-fb86-43fd-abdb-d4f78ceb1ff7",
   "metadata": {},
   "outputs": [],
   "source": [
    "# %%capture\n",
    "\n",
    "# %pip install --upgrade transformers datasets jsonlines ai21 langchain chromadb boto3"
   ]
  },
  {
   "cell_type": "code",
   "execution_count": 2,
   "id": "2b233150-bbf5-4656-a784-3c964b1333d3",
   "metadata": {},
   "outputs": [
    {
     "name": "stderr",
     "output_type": "stream",
     "text": [
      "/Users/famestad/.pyenv/versions/3.11.3/lib/python3.11/site-packages/tqdm/auto.py:21: TqdmWarning: IProgress not found. Please update jupyter and ipywidgets. See https://ipywidgets.readthedocs.io/en/stable/user_install.html\n",
      "  from .autonotebook import tqdm as notebook_tqdm\n"
     ]
    }
   ],
   "source": [
    "import transformers\n",
    "from datasets import load_dataset\n",
    "\n",
    "dataset = load_dataset(\"pasinit/scotus\",\n",
    "                      split='train')"
   ]
  },
  {
   "cell_type": "code",
   "execution_count": 3,
   "id": "df2c6585-f7cd-4186-bdcd-d2c438ea0c65",
   "metadata": {},
   "outputs": [],
   "source": [
    "# dataset.select([1, 2])[0]"
   ]
  },
  {
   "cell_type": "code",
   "execution_count": 4,
   "id": "84421523-3ec3-4a87-b753-03793553018b",
   "metadata": {},
   "outputs": [],
   "source": [
    "sample_texts = [it['text'] for it in dataset.select([3, 6, 9])]"
   ]
  },
  {
   "cell_type": "code",
   "execution_count": 5,
   "id": "cf2371ce-fdee-47c9-903e-fd7fa11674b8",
   "metadata": {},
   "outputs": [],
   "source": [
    "# sample_texts[0]"
   ]
  },
  {
   "cell_type": "code",
   "execution_count": 6,
   "id": "9b22111d-cbd1-4a23-abd8-dcff62b608c3",
   "metadata": {},
   "outputs": [],
   "source": [
    "import ai21\n",
    "\n",
    "api_key = 'gAXhJl0FdF9SvRIdd90WYFoXBIk1uilx'\n",
    "\n",
    "ai21.api_key = api_key"
   ]
  },
  {
   "cell_type": "code",
   "execution_count": 7,
   "id": "f56f8a02-f1a6-4bdf-a116-957ba73a6997",
   "metadata": {},
   "outputs": [],
   "source": [
    "import json"
   ]
  },
  {
   "cell_type": "markdown",
   "id": "04704521-517a-4810-a8cf-ad329bb78b8b",
   "metadata": {},
   "source": [
    "- Who is the plaintiff?\n",
    "- Who is the defendant?\n",
    "- What is this case about?\n",
    "- Why is this case important?\n",
    "- Summarize the plaintiffs argument\n",
    "- Summarize the defendants argument\n",
    "- Extract the list of key points in the plaintiffs argument\n",
    "- Extract the list of key points in the defendants argument\n",
    "- Identify uncontested facts (occur in both arguments)\n",
    "- Identify contested facts (conflicts between the arguments)\n",
    "- Summary of the judgement\n",
    "- Summary of dissenting argument"
   ]
  },
  {
   "cell_type": "code",
   "execution_count": 8,
   "id": "f754d9d2-20c1-4f7f-b99b-cd239aee1d25",
   "metadata": {},
   "outputs": [],
   "source": [
    "from ai21 import Segmentation\n",
    "from langchain.docstore.document import Document\n",
    "\n",
    "def get_segments(text):\n",
    "    # print(text)\n",
    "    response = ai21.Segmentation.execute(\n",
    "        source=text,\n",
    "        sourceType=\"TEXT\")\n",
    "\n",
    "    return [\n",
    "        Document(page_content=it['segmentText']) for it in response['segments']]\n",
    "\n",
    "segments = get_segments(sample_texts[2])"
   ]
  },
  {
   "cell_type": "code",
   "execution_count": 9,
   "id": "d0fc139e-45d2-4d01-85d6-09468062e451",
   "metadata": {},
   "outputs": [
    {
     "data": {
      "text/plain": [
       "Document(page_content='The Court of Appeals modified the Board\\'s order so that the employer would be free to recognize the assisted union not only when certified by the Board but, alternatively, when it \"shall have been freely chosen as [their representative] by a majority of the employees after all effects of unfair labor practices have been eliminated.\"\\n\\nIt also struck from the Board\\'s notice requirement certain references to the rival union.')"
      ]
     },
     "execution_count": 9,
     "metadata": {},
     "output_type": "execute_result"
    }
   ],
   "source": [
    "segments[1]"
   ]
  },
  {
   "cell_type": "code",
   "execution_count": 28,
   "id": "01e43f8a-74b3-430a-818d-f774d913116f",
   "metadata": {},
   "outputs": [],
   "source": [
    "from langchain.chains import LLMChain\n",
    "from langchain.llms import AI21\n",
    "from langchain.prompts import PromptTemplate\n",
    "from langchain.chains.summarize import load_summarize_chain\n",
    "from time import perf_counter\n",
    "from langchain.llms import Bedrock\n",
    "\n",
    "llm = Bedrock(\n",
    "    model_id=\"ai21.j2-ultra-v1\",\n",
    "    model_kwargs={\n",
    "        \"maxTokens\": 8191,\n",
    "        \"topP\": .01,\n",
    "        \"temperature\": .4,\n",
    "    }\n",
    ")\n",
    "\n"
   ]
  },
  {
   "cell_type": "code",
   "execution_count": 29,
   "id": "b1ab6f1d-43b4-42e4-b64e-fc2bd17a15eb",
   "metadata": {},
   "outputs": [],
   "source": [
    "import boto3\n",
    "from langchain.embeddings import BedrockEmbeddings\n",
    "from langchain.vectorstores import Chroma\n",
    "\n",
    "embeddings = BedrockEmbeddings()\n",
    "\n",
    "db = Chroma.from_documents(segments, embeddings)"
   ]
  },
  {
   "cell_type": "code",
   "execution_count": 30,
   "id": "3717b709-dd42-45b9-b548-b9e8f8181f40",
   "metadata": {},
   "outputs": [
    {
     "data": {
      "text/plain": [
       "{'query': 'What is this case about?',\n",
       " 'result': 'This case is about a company giving illegal support and assistance to a union, and the appropriate remedy for this situation.'}"
      ]
     },
     "execution_count": 30,
     "metadata": {},
     "output_type": "execute_result"
    }
   ],
   "source": [
    "from langchain.chains import RetrievalQA\n",
    "\n",
    "prompt_template = \"\"\"\n",
    "Human: Use the following pieces of context to answer the question at the end. \\\n",
    "If you don't know the answer, just say that you don't know, don't try to make up an answer.\n",
    "\n",
    "{context}\n",
    "\n",
    "Question: {question}\n",
    "\n",
    "Assistant:\n",
    "Helpful Answer:\n",
    "\"\"\"\n",
    "\n",
    "prompt = PromptTemplate(\n",
    "    template=prompt_template, \n",
    "    input_variables=['context', 'question'])\n",
    "\n",
    "qa_chain = RetrievalQA.from_chain_type(llm,\n",
    "                    retriever=db.as_retriever(\n",
    "                        search_type=\"mmr\",\n",
    "                        search_kwargs={\"k\": 8}\n",
    "                    ),\n",
    "                    chain_type_kwargs={\"prompt\": prompt},\n",
    ")\n",
    "\n",
    "question = \"What is this case about?\"\n",
    "qa_chain({\"query\": question})"
   ]
  },
  {
   "cell_type": "code",
   "execution_count": 31,
   "id": "fe737fff-a517-4d25-8d15-e570e32c1227",
   "metadata": {},
   "outputs": [
    {
     "name": "stdout",
     "output_type": "stream",
     "text": [
      "('1. The Teamsters Local was International Brotherhood of Teamsters, '\n",
      " 'Chauffeurs, Warehousemen and Helpers of America, AFL, Local No. 612.\\n'\n",
      " \"2. The Board concurred in the Trial Examiner's findings that when the \"\n",
      " 'Teamsters Local was picketing the premises the company rendered illegal '\n",
      " 'support and assistance to District 50 by negotiating the details of a '\n",
      " 'contract with officials of that union before a single employee had actually '\n",
      " 'authorized it as a representative, by showing the draft contract to the '\n",
      " 'drivers at a meeting convened by and presided over by the company president, '\n",
      " 'who assured them that if necessary he would advance the money for dues, '\n",
      " 'after which, and within less than three hours, the drivers signed District '\n",
      " '50 authorization cards, established a local which held its first meeting, at '\n",
      " \"the president's suggestion, on company premises, and concluded a contract \"\n",
      " 'with the company.\\n'\n",
      " '3. Crampton Harris argued the cause for District 50, United Mine Workers of '\n",
      " 'America, respondent.\\n'\n",
      " \"4. The Court's alternative to Board certification dispenses with the \"\n",
      " 'necessity of an election and can be interpreted, as the Board argues, to '\n",
      " 'leave to the offending employer and the assisted union the decision when the '\n",
      " 'effect of the unfair labor practice has been eliminated and the employees '\n",
      " 'have regained their freedom of action.\\n'\n",
      " '5. The cease-and-desist order which issued was in the standard form '\n",
      " 'directing the company to withdraw and withhold recognition from District 50 '\n",
      " \"unless and until it received the Board's certification as the exclusive \"\n",
      " 'representative of the employees.\\n'\n",
      " '6. The orderly administration of the Act and due regard for the respective '\n",
      " 'functions of the Board and reviewing courts require that we vacate the '\n",
      " 'judgment of the Court of Appeals with instructions to remand the case to the '\n",
      " 'Board for further proceedings consistent with this opinion.')\n"
     ]
    }
   ],
   "source": [
    "from pprint import pprint\n",
    "\n",
    "result = qa_chain({\"query\": \"Extract the list of key points in the plaintiffs argument\"})\n",
    "\n",
    "pprint(result['result'])"
   ]
  },
  {
   "cell_type": "code",
   "execution_count": 32,
   "id": "43e0660f-befc-4562-a80a-72f835a4b629",
   "metadata": {},
   "outputs": [
    {
     "name": "stdout",
     "output_type": "stream",
     "text": [
      "'The company'\n"
     ]
    }
   ],
   "source": [
    "result = qa_chain({\"query\": \"Who is the plaintiff?\"})\n",
    "\n",
    "pprint(result['result'])"
   ]
  },
  {
   "cell_type": "code",
   "execution_count": 33,
   "id": "bbf4b736-6e8c-49ce-9890-4f41efd583af",
   "metadata": {},
   "outputs": [
    {
     "name": "stdout",
     "output_type": "stream",
     "text": [
      "'Dominick L. Manoli'\n"
     ]
    }
   ],
   "source": [
    "result = qa_chain({\"query\": \"Who is the petitioner?\"})\n",
    "\n",
    "pprint(result['result'])"
   ]
  },
  {
   "cell_type": "code",
   "execution_count": 34,
   "id": "5c20175e-5022-4f12-a4a9-76d6065a0f81",
   "metadata": {},
   "outputs": [
    {
     "name": "stdout",
     "output_type": "stream",
     "text": [
      "('The Court vacated the judgment of the Court of Appeals with instructions to '\n",
      " 'remand the case to the Board for further proceedings consistent with this '\n",
      " 'opinion.')\n"
     ]
    }
   ],
   "source": [
    "result = qa_chain({\"query\": \"What was the decision in this case?\"})\n",
    "\n",
    "pprint(result['result'])"
   ]
  },
  {
   "cell_type": "code",
   "execution_count": 35,
   "id": "b266177a-7fcc-4656-9034-e1f8844e0376",
   "metadata": {},
   "outputs": [
    {
     "name": "stdout",
     "output_type": "stream",
     "text": [
      "'National Labor Relations Board'\n"
     ]
    }
   ],
   "source": [
    "result = qa_chain({\"query\": \"What is the board this case refers to?\"})\n",
    "\n",
    "pprint(result['result'])"
   ]
  },
  {
   "cell_type": "code",
   "execution_count": 36,
   "id": "16fd040d-582f-418d-bc54-c78ee6f4d133",
   "metadata": {},
   "outputs": [
    {
     "name": "stdout",
     "output_type": "stream",
     "text": [
      "(\"The dissenting opinion in this case argued that the Board's order to remove \"\n",
      " 'an assisted union was appropriate and adapted to the situation calling for '\n",
      " 'redress, and did not extend \"preferred treatment\" to the noncomplying union. '\n",
      " 'The dissenting opinion also argued that the modifications of the '\n",
      " 'cease-and-desist order made by the Court of Appeals went beyond permissible '\n",
      " 'limits of judicial review under 10 (f) and cannot be sustained.')\n"
     ]
    }
   ],
   "source": [
    "result = qa_chain({\"query\": \"What was the dissenting opinon in this case?\"})\n",
    "\n",
    "pprint(result['result'])"
   ]
  },
  {
   "cell_type": "code",
   "execution_count": 37,
   "id": "57fd2962-c359-45a0-8bbe-1481fdb2e52d",
   "metadata": {},
   "outputs": [
    {
     "name": "stdout",
     "output_type": "stream",
     "text": [
      "('This case is important because it establishes the limits on the power of the '\n",
      " 'National Labor Relation Board (NLRB) to apply remedies in unfair labor '\n",
      " \"practice cases. It clarifies that the NLRB's power is not limitless and must \"\n",
      " 'be \"appropriate\" and \"adapted to the situation which calls for redress.\" The '\n",
      " 'case also emphasizes the need to follow proper procedures, such as raising '\n",
      " 'objections before the Board, to ensure fair administration of labor laws.')\n"
     ]
    }
   ],
   "source": [
    "result = qa_chain({\"query\": \"Why is this case important?\"})\n",
    "\n",
    "pprint(result['result'])"
   ]
  },
  {
   "cell_type": "code",
   "execution_count": 38,
   "id": "9577dc7e-f84a-4c3e-9e18-7ffa2a485254",
   "metadata": {},
   "outputs": [
    {
     "name": "stdout",
     "output_type": "stream",
     "text": [
      "('The most important question in this case is what is the appropriate remedy '\n",
      " 'for an employer who has given unlawful assistance to a union.')\n"
     ]
    }
   ],
   "source": [
    "result = qa_chain({\"query\": \"What are the most important questions in this case?\"})\n",
    "\n",
    "pprint(result['result'])"
   ]
  },
  {
   "cell_type": "code",
   "execution_count": 39,
   "id": "1974d55c-84bf-4971-b775-beb0f70d0896",
   "metadata": {},
   "outputs": [
    {
     "name": "stdout",
     "output_type": "stream",
     "text": [
      "('The conflicting facts between the arguments of the two sides are that the '\n",
      " 'Board argues that District 50 is an assisted but not a dominated union, '\n",
      " 'while the company argues that District 50 is a dominated union.')\n"
     ]
    }
   ],
   "source": [
    "result = qa_chain({\"query\": \"What are the conflicting facts between the arguments of the two sides?\"})\n",
    "\n",
    "pprint(result['result'])"
   ]
  },
  {
   "cell_type": "code",
   "execution_count": 40,
   "id": "694a1a6d-08b8-4ac5-a797-32d36daa9199",
   "metadata": {},
   "outputs": [
    {
     "name": "stdout",
     "output_type": "stream",
     "text": [
      "('District 50 was found by the Board to be an assisted but not a dominated '\n",
      " \"union, so that a free choice of District 50 by Bowman's employees is a \"\n",
      " 'reasonable possibility. Therefore the certification requirement here '\n",
      " \"misapplies the Board's own policy by actually defeating the statutory rights \"\n",
      " \"of Bowman's employees.\")\n"
     ]
    }
   ],
   "source": [
    "result = qa_chain({\"query\": \"Explain the thought process to understand if District 50 is a dominated or an assisted union?\"})\n",
    "\n",
    "pprint(result['result'])"
   ]
  },
  {
   "cell_type": "code",
   "execution_count": 41,
   "id": "22aef89b-8ea4-4588-95a2-80712f4ad0f8",
   "metadata": {},
   "outputs": [
    {
     "name": "stdout",
     "output_type": "stream",
     "text": [
      "('District 50 was determined to be an assisted union because the company '\n",
      " 'negotiated the details of a contract with officials of that union before a '\n",
      " 'single employee had actually authorized it as a representative, by showing '\n",
      " 'the draft contract to the drivers at a meeting convened by and presided over '\n",
      " 'by the company president, who assured them that if necessary he would '\n",
      " 'advance the money for dues, after which, and within less than three hours, '\n",
      " 'the drivers signed District 50 authorization cards, established a local '\n",
      " \"which held its first meeting, at the president's suggestion, on company \"\n",
      " 'premises, and concluded a contract with the company.')\n"
     ]
    }
   ],
   "source": [
    "result = qa_chain({\"query\": \"Why was District 50 determined to be an assisted union?\"})\n",
    "\n",
    "pprint(result['result'])"
   ]
  },
  {
   "cell_type": "code",
   "execution_count": 47,
   "id": "08f244d2-0340-42df-b3ab-0df451e1b400",
   "metadata": {},
   "outputs": [
    {
     "name": "stdout",
     "output_type": "stream",
     "text": [
      "/Users/famestad/dev/extract-ai21-hackathon/EarningsCall_Dataset\n"
     ]
    },
    {
     "data": {
      "text/plain": [
       "0"
      ]
     },
     "execution_count": 47,
     "metadata": {},
     "output_type": "execute_result"
    }
   ],
   "source": [
    "import os\n",
    "\n",
    "os.system('pwd')"
   ]
  },
  {
   "cell_type": "code",
   "execution_count": null,
   "id": "437d336f-b2d5-4902-bc55-09e6189c2903",
   "metadata": {},
   "outputs": [],
   "source": []
  }
 ],
 "metadata": {
  "kernelspec": {
   "display_name": "Python 3 (ipykernel)",
   "language": "python",
   "name": "python3"
  },
  "language_info": {
   "codemirror_mode": {
    "name": "ipython",
    "version": 3
   },
   "file_extension": ".py",
   "mimetype": "text/x-python",
   "name": "python",
   "nbconvert_exporter": "python",
   "pygments_lexer": "ipython3",
   "version": "3.11.3"
  }
 },
 "nbformat": 4,
 "nbformat_minor": 5
}
