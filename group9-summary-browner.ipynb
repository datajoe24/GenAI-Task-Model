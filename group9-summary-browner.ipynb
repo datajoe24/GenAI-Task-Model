{
 "cells": [
  {
   "cell_type": "markdown",
   "id": "6c954a3f",
   "metadata": {},
   "source": [
    "# AI21 Labs Structured Summarization\n",
    "\n",
    "This project is about pulling out important details from long pieces of text, like chat\n",
    "histories, court transcripts, and earnings calls. The challenge is to gather lots of\n",
    "information from these texts and put it into a database, making it easier to analyze\n",
    "all that data.\n",
    "\n",
    "In this example, we leverage the NER dataset supreme court dataset to practice extracting data from\n",
    "legal documents (Supreme Court Transcripts).\n",
    "\n",
    "<img src=\"../architecture.png\">"
   ]
  },
  {
   "cell_type": "markdown",
   "id": "3b8e8b43",
   "metadata": {},
   "source": [
    "## Prerequisites\n",
    "\n",
    "Install the package dependencies and import libraries."
   ]
  },
  {
   "cell_type": "code",
   "execution_count": 2,
   "id": "48805994",
   "metadata": {},
   "outputs": [],
   "source": [
    "%%capture\n",
    "\n",
    "%pip install --upgrade transformers datasets jsonlines ai21 langchain"
   ]
  },
  {
   "cell_type": "markdown",
   "id": "69255850",
   "metadata": {},
   "source": [
    "We will use both the AI21 Labs APIs and AI21 Labs models hosted on Amazon Bedrock."
   ]
  },
  {
   "cell_type": "code",
   "execution_count": 3,
   "id": "7fedaff7",
   "metadata": {},
   "outputs": [],
   "source": [
    "import ai21 # Using AI21 Labs APIs\n",
    "\n",
    "api_key = 'gAXhJl0FdF9SvRIdd90WYFoXBIk1uilx'\n",
    "\n",
    "ai21.api_key = api_key"
   ]
  },
  {
   "cell_type": "markdown",
   "id": "31b11305",
   "metadata": {},
   "source": [
    "## Data\n",
    "\n",
    "The NER dataset contains full transcriptions for all Supreme Court cases, which we will use AI21 to summarize and extract data from. \n",
    "\n",
    "First we get the data from Hugging Face. "
   ]
  },
  {
   "cell_type": "code",
   "execution_count": 4,
   "id": "2b233150-bbf5-4656-a784-3c964b1333d3",
   "metadata": {},
   "outputs": [
    {
     "data": {
      "text/plain": [
       "Dataset({\n",
       "    features: ['id', 'text', 'decisionDirection', 'respondent', 'label_ids', 'labels'],\n",
       "    num_rows: 7417\n",
       "})"
      ]
     },
     "execution_count": 4,
     "metadata": {},
     "output_type": "execute_result"
    }
   ],
   "source": [
    "from datasets import load_dataset\n",
    "dataset = load_dataset(\n",
    "    \"pasinit/scotus\",\n",
    "    split='train')\n",
    "\n",
    "# list train, validation, and test datasets, schema, and record count\n",
    "dataset"
   ]
  },
  {
   "cell_type": "markdown",
   "id": "c4bc5f66",
   "metadata": {},
   "source": [
    "\n",
    "### Sample Case Text #1\n",
    "We will use two datasets as an example, here we select one well known one: \n",
    "\n",
    "**U.S. v. Nixon (1974)**, In this case, the special prosecutor in the Watergate affair subpoenaed audio tapes of the Oval Office conversations. President Nixon refused to turn over the tapes, claiming exectutive priviledge. The Supreme Court rled that the defendents' rights to evidence outweighed the President'srigt to executive priviledge if national security was not compromised.\n",
    "\n",
    "We will use this case (ID \"1973-172-02\") as an example to see how our AI21 Powered Summarization does."
   ]
  },
  {
   "cell_type": "code",
   "execution_count": 16,
   "id": "df2c6585-f7cd-4186-bdcd-d2c438ea0c65",
   "metadata": {},
   "outputs": [
    {
     "name": "stdout",
     "output_type": "stream",
     "text": [
      "United States Supreme Court\n",
      "UNITED STATES v. NIXON(1974)\n",
      "No. 73-1766\n",
      "Argued: July 8, 1974Decided: July 24, 1974\n",
      "\n",
      "\n",
      "\n",
      "\n",
      "\n",
      "[Footnote * Together with No. 73-1834, Nixon, President of the United States v. United States, also on certiorari before judgment to the same court.\n",
      "\n",
      " Following indictment alleging violation of federal statutes by certain staff members of the White House and political supporters of the President, the Special Prosecutor filed a motion under Fed. Rule Crim. Proc. 17 (c) for a subpoena duces tecum for the production before trial of certain tapes and documents relating to precisely identified conversations and meetings between the President and others. The President, claiming executive privilege, filed a motion to quash the subpoena. The District Court, after treating the subpoenaed material as presumptively privileged, concluded that the Special Prosecutor had made a sufficient showing to rebut the presumption and that the requirements of Rule 17 (c) had been satisfied. The\n"
     ]
    }
   ],
   "source": [
    "# Get the Nixon Dataset ID\n",
    "case_data_1 = [i for i in dataset if i[\"id\"] == \"1973-172-02\"][0]\n",
    "sample_text_1 = case_data_1['text']\n",
    "print(sample_text_1[:1000]) # preview"
   ]
  },
  {
   "cell_type": "markdown",
   "id": "31282141",
   "metadata": {},
   "source": [
    "Like many of the case texts, this text exceeds the character/token limits of some AI21 API. We will use it to try some of the segmentation techniques. "
   ]
  },
  {
   "cell_type": "code",
   "execution_count": 20,
   "id": "963d4baf",
   "metadata": {},
   "outputs": [
    {
     "name": "stdout",
     "output_type": "stream",
     "text": [
      "Character Count: 67380\n",
      "Word Count: 10751\n"
     ]
    }
   ],
   "source": [
    "print(\"Character Count: {}\".format(len(sample_text_1)))\n",
    "print(\"Word Count: {}\".format(len(sample_text_1.split(\" \"))))"
   ]
  },
  {
   "cell_type": "markdown",
   "id": "8cb7b364",
   "metadata": {},
   "source": [
    "### Sample Case Text #2\n",
    "For our second sample, we can try this out with another well known case: \n",
    "\n",
    "**Brown v. Board of Education (1954)**: In this milestone decision, the Supreme Court ruled that separating children in public schools on the basis of race was unconstitutional. It signaled the end of legalized racial segregation in the schools of the United States, overruling the \"separate but equal\" principle set forth in the 1896 Plessy v. Ferguson case."
   ]
  },
  {
   "cell_type": "code",
   "execution_count": 5,
   "id": "145d4e37",
   "metadata": {},
   "outputs": [
    {
     "name": "stdout",
     "output_type": "stream",
     "text": [
      "United States Supreme Court\n",
      "BROWN v. BOARD OF EDUCATION(1955)\n",
      "No. 1\n",
      "Argued: Decided: May 31, 1955\n",
      "\n",
      "\n",
      "1. \n",
      "Racial discrimination in public education is unconstitutional, \n",
      "347 \n",
      "U.S. 483, 497, and all provisions of federal, state or local law requiring or permitting such discrimination must yield to this principle. P. 298.\n",
      "\n",
      "2. \n",
      "The judgments below (except that in the Delaware case) are reversed and the cases are remanded to the District Courts to take such proceedings and enter such orders and decrees consistent with this opinion as are necessary and proper to admit the parties to these cases to public schools on a racially nondiscriminatory basis with all deliberate speed. P. 301.\n",
      "\n",
      " (a) School authorities have the primary responsibility for elucidating, assessing and solving the varied local school problems which may require solution in fully implementing the governing constitutional principles. P. 299.\n",
      "\n",
      "\n",
      " (b) Courts will have to consider whether the action of school authorities constitutes good faith implementation of the governing constitutional principles. P. 299.\n",
      "\n",
      "\n",
      " (c) Because of their proximity to local conditions and the possible need for further hearings, the courts which originally heard these cases can best perform this judicial appraisal. P. 299.\n",
      "\n",
      "\n",
      " (d) In fashioning and effectuating the decrees, the courts will be guided by equitable principles - characterized by a practical flexibility in shaping remedies and a facility for adjusting and reconciling public and private needs. P. 300. \n",
      "[349 U.S. 294, 295]\n",
      "\n",
      "\n",
      " (e) At stake is the personal interest of the plaintiffs in admission to public schools as soon as practicable on a nondiscriminatory basis. P. 300.\n",
      "\n",
      "\n",
      " (f) Courts of equity may properly take into account the public interest in the elimination in a systematic and effective manner of a variety of obstacles in making the transition to school systems operated in accordance with the constitutional principles enunciated in \n",
      "347 \n",
      "U.S. 483, 497; but the vitality of these constitutional principles cannot be allowed to yield simply because of disagreement with them. P. 300.\n",
      "\n",
      "\n",
      " (g) While giving weight to these public and private considerations, the courts will require that the defendants make a prompt and reasonable start toward full compliance with the ruling of this Court. P. 300.\n",
      "\n",
      "\n",
      " (h) Once such a start has been made, the courts may find that additional time is necessary to carry out the ruling in an effective manner. P. 300.\n",
      "\n",
      "\n",
      " (i) The burden rests on the defendants to establish that additional time is necessary in the public interest and is consistent with good faith compliance at the earliest practicable date. P. 300.\n",
      "\n",
      "\n",
      " (j) The courts may consider problems related to administration, arising from the physical condition of the school plant, the school transportation system, personnel, revision of school districts and attendance areas into compact units to achieve a system of determining admission to the public schools on a nonracial basis, and revision of local laws and regulations which may be necessary in solving the foregoing problems. Pp. 300-301.\n",
      "\n",
      "\n",
      " (k) The courts will also consider the adequacy of any plans the defendants may propose to meet these problems and to effectuate a transition to a racially nondiscriminatory school system. P. 301.\n",
      "\n",
      "\n",
      " (l) During the period of transition, the courts will retain jurisdiction of these cases. P. 301.\n",
      "\n",
      "\n",
      "3. \n",
      "The judgment in the Delaware case, ordering the immediate admission of the plaintiffs to schools previously attended only by white children, is affirmed on the basis of the principles stated by this Court in its opinion, \n",
      "347 \n",
      "U.S. 483; but the case is remanded to the Supreme Court of Delaware for such further proceedings as that Court may deem necessary in the light of this opinion. P. 301.\n",
      "\n",
      " 98 F. Supp. 797, 103 F. Supp. 920, 103 F. Supp. 337 and judgment in No. 4, reversed and remanded.\n",
      "\n",
      " 91 A. 2d 137, affirmed and remanded.\n",
      "\n",
      "\n",
      "[Footnote *] Together with No. 2, Briggs et al. v. Elliott et al., on appeal from the United States District Court for the Eastern District of South Carolina; No. 3, Davis et al. v. County School Board of Prince Edward County, Virginia, et al., on appeal from the United States District Court for the Eastern District of Virginia; No. 4, Bolling et al. v. Sharpe et al., on certiorari to the United States Court of Appeals for the District of Columbia Circuit; and No. 5, Gebhart et al. v. Belton et al., on certiorari to the Supreme Court of Delaware. \n",
      "[349 U.S. 294, 296]\n",
      "\n",
      "Robert L. Carter argued the cause for appellants in No. 1. Spottswood W. Robinson, III, argued the causes for appellants in Nos. 2 and 3. George E. C. Hayes and James M. Nabrit, Jr. argued the cause for petitioners in No. 4. Louis L. Redding argued the cause for respondents in No. 5. Thurgood Marshall argued the causes for appellants in Nos. 1, 2 and 3, petitioners in No. 4 and respondents in No. 5.\n",
      "\n",
      "On the briefs were Harold Boulware, Robert L. Carter, Jack Greenber\n"
     ]
    }
   ],
   "source": [
    "# Get the Brown v Board of Education Case\n",
    "case_data_2 = [i for i in dataset if i[\"id\"] == \"1954-085-01\"][0]\n",
    "sample_text_2 = case_data_2['text']\n",
    "print(sample_text_2[:5000]) # preview"
   ]
  },
  {
   "cell_type": "markdown",
   "id": "8dacd59d",
   "metadata": {},
   "source": [
    "Like many of the case texts, this text is within the character/token limits of all AI21 APIs. We will use it to try some of those APIs directly as an alternative.  "
   ]
  },
  {
   "cell_type": "code",
   "execution_count": 6,
   "id": "cf32d0dd",
   "metadata": {},
   "outputs": [
    {
     "name": "stdout",
     "output_type": "stream",
     "text": [
      "Character Count: 15476\n",
      "Word Count: 2462\n"
     ]
    }
   ],
   "source": [
    "print(\"Character Count: {}\".format(len(sample_text_2)))\n",
    "print(\"Word Count: {}\".format(len(sample_text_2.split(\" \"))))"
   ]
  },
  {
   "cell_type": "markdown",
   "id": "9cd67dca",
   "metadata": {},
   "source": [
    "## Segmentation and Segment Summarization\n",
    "\n",
    "The court transcripts are long texts, often messy texts. We try with breaking down the data into coherent units, based on topics and lines. Here we use try three techniques: 1/ [AI21 Labs Segmentation API](https://docs.ai21.com/reference/text-segmentation-api-ref), 2/ LangChang [CharacterTextSplitter](https://python.langchain.com/docs/modules/data_connection/document_transformers/text_splitters/character_text_splitter), and for Case #2 which fits within limits, 3/[AI21 Labs Summarize by Segment API](https://docs.ai21.com/reference/summarize-by-segment-api-ref)\n",
    "\n",
    "For techniques 1 and 2, we need to also summarize the segments. For technique 3, we will use AI21 Labs API to segment and summarize the segmenets in a single call. \n",
    "\n",
    "These segment summaries will be used in the next section for further summarization and information extraction."
   ]
  },
  {
   "cell_type": "code",
   "execution_count": 45,
   "id": "9f89cc96",
   "metadata": {},
   "outputs": [
    {
     "name": "stdout",
     "output_type": "stream",
     "text": [
      "Character Count: 67380\n",
      "Word Count: 10751\n"
     ]
    }
   ],
   "source": [
    "print(\"Character Count: {}\".format(len(sample_text_1)))\n",
    "print(\"Word Count: {}\".format(len(sample_text_1.split(\" \"))))"
   ]
  },
  {
   "cell_type": "markdown",
   "id": "b7085d84",
   "metadata": {},
   "source": [
    "Note that most of the texts are beyond the 50K limit the [AI21 Summarize by Segment API](https://docs.ai21.com/reference/summarize-by-segment-api-ref), so we wanted to figure out if we could get a similar result with a summary of segments.\n",
    "\n",
    "**In order to compare if we could get similar results with our segmentation, we will proceed with the example Case 2, Brown v. Board of Education. It is small enough to fit in the APIs, so we can compare and see if the segmeneted approaches can produce similar quality results. Note because of the size of other cases, only the segmented approach would work for the dataset at large.**\n",
    "\n",
    "Let's look at it again to remind ourselves."
   ]
  },
  {
   "cell_type": "code",
   "execution_count": 7,
   "id": "0de11f1a",
   "metadata": {},
   "outputs": [
    {
     "name": "stdout",
     "output_type": "stream",
     "text": [
      "United States Supreme Court\n",
      "BROWN v. BOARD OF EDUCATION(1955)\n",
      "No. 1\n",
      "Argued: Decided: May 31, 1955\n",
      "\n",
      "\n",
      "1. \n",
      "Racial discrimination in public education is unconstitutional, \n",
      "347 \n",
      "U.S. 483, 497, and all provisions of federal, state or local law requiring or permitting such discrimination must yield to this principle. P. 298.\n",
      "\n",
      "2. \n",
      "The judgments below (except that in the Delaware case) are reversed and the cases are remanded to the District Courts to take such proceedings and enter such orders and decrees consistent with this opinion as are necessary and proper to admit the parties to these cases to public schools on a racially nondiscriminatory basis with all deliberate speed. P. 301.\n",
      "\n",
      " (a) School authorities have the primary responsibility for elucidating, assessing and solving the varied local school problems which may require solution in fully implementing the governing constitutional principles. P. 299.\n",
      "\n",
      "\n",
      " (b) Courts will have to consider whether the action of school authorities constitutes good faith implementation of the governing constitutional principles. P. 299.\n",
      "\n",
      "\n",
      " (c) Because of their proximity to local conditions and the possible need for further hearings, the courts which originally heard these cases can best perform this judicial appraisal. P. 299.\n",
      "\n",
      "\n",
      " (d) In fashioning and effectuating the decrees, the courts will be guided by equitable principles - characterized by a practical flexibility in shaping remedies and a facility for adjusting and reconciling public and private needs. P. 300. \n",
      "[349 U.S. 294, 295]\n",
      "\n",
      "\n",
      " (e) At stake is the personal interest of the plaintiffs in admission to public schools as soon as practicable on a nondiscriminatory basis. P. 300.\n",
      "\n",
      "\n",
      " (f) Courts of equity may properly take into account the public interest in the elimination in a systematic and effective manner of a variety of obstacles in making the transition to school systems operated in accordance with the constitutional principles enunciated in \n",
      "347 \n",
      "U.S. 483, 497; but the vitality of these constitutional principles cannot be allowed to yield simply because of disagreement with them. P. 300.\n",
      "\n",
      "\n",
      " (g) While giving weight to these public and private considerations, the courts will require that the defendants make a prompt and reasonable start toward full compliance with the ruling of this Court. P. 300.\n",
      "\n",
      "\n",
      " (h) Once such a start has been made, the courts may find that additional time is necessary to carry out the ruling in an effective manner. P. 300.\n",
      "\n",
      "\n",
      " (i) The burden rests on the defendants to establish that additional time is necessary in the public interest and is consistent with good faith compliance at the earliest practicable date. P. 300.\n",
      "\n",
      "\n",
      " (j) The courts may consider problems related to administration, arising from the physical condition of the school plant, the school transportation system, personnel, revision of school districts and attendance areas into compact units to achieve a system of determining admission to the public schools on a nonracial basis, and revision of local laws and regulations which may be necessary in solving the foregoing problems. Pp. 300-301.\n",
      "\n",
      "\n",
      " (k) The courts will also consider the adequacy of any plans the defendants may propose to meet these problems and to effectuate a transition to a racially nondiscriminatory school system. P. 301.\n",
      "\n",
      "\n",
      " (l) During the period of transition, the courts will retain jurisdiction of these cases. P. 301.\n",
      "\n",
      "\n",
      "3. \n",
      "The judgment in the Delaware case, ordering the immediate admission of the plaintiffs to schools previously attended only by white children, is affirmed on the basis of the principles stated by this Court in its opinion, \n",
      "347 \n",
      "U.S. 483; but the case is remanded to the Supreme Court of Delaware for such further proceedings as that Court may deem necessary in the light of this opinion. P. 301.\n",
      "\n",
      " 98 F. Supp. 797, 103 F. Supp. 920, 103 F. Supp. 337 and judgment in No. 4, reversed and remanded.\n",
      "\n",
      " 91 A. 2d 137, affirmed and remanded.\n",
      "\n",
      "\n",
      "[Footnote *] Together with No. 2, Briggs et al. v. Elliott et al., on appeal from the United States District Court for the Eastern District of South Carolina; No. 3, Davis et al. v. County School Board of Prince Edward County, Virginia, et al., on appeal from the United States District Court for the Eastern District of Virginia; No. 4, Bolling et al. v. Sharpe et al., on certiorari to the United States Court of Appeals for the District of Columbia Circuit; and No. 5, Gebhart et al. v. Belton et al., on certiorari to the Supreme Court of Delaware. \n",
      "[349 U.S. 294, 296]\n",
      "\n",
      "Robert L. Carter argued the cause for appellants in No. 1. Spottswood W. Robinson, III, argued the causes for appellants in Nos. 2 and 3. George E. C. Hayes and James M. Nabrit, Jr. argued the cause for petitioners in No. 4. Louis L. Redding argued the cause for respondents in No. 5. Thurgood Marshall argued the causes for appellants in Nos. 1, 2 and 3, petitioners in No. 4 and respondents in No. 5.\n",
      "\n",
      "On the briefs were Harold Boulware, Robert L. Carter, Jack Greenberg, Oliver W. Hill, Thurgood Marshall, Louis L. Redding, Spottswood W. Robinson, III, Charles S. Scott, William T. Coleman, Jr., Charles T. Duncan, George E. C. Hayes, Loren Miller, William R. Ming, Jr., Constance Baker Motley, James M. Nabrit, Jr., Louis H. Pollak and Frank D. Reeves for appellants in Nos. 1, 2 and 3, and respondents in No. 5; and George E. C. Hayes, James M. Nabrit, Jr., George M. Johnson, Charles W. Quick, Herbert O. Reid, Thurgood Marshall and Robert L. Carter for petitioners in No. 4.\n",
      "\n",
      "Harold R. Fatzer, Attorney General of Kansas, argued the cause for appellees in No. 1. With him on the brief was Paul E. Wilson, Assistant Attorney General. Peter F. Caldwell filed a brief for the Board of Education of Topeka, Kansas, appellee.\n",
      "\n",
      "S. E. Rogers and Robert McC. Figg, Jr. argued the cause and filed a brief for appellees in No. 2.\n",
      "\n",
      "J. Lindsay Almond, Jr., Attorney General of Virginia, and Archibald G. Robertson argued the cause for appellees in No. 3. With them on the brief were Henry T. Wickham, Special Assistant to the Attorney General, T. Justin Moore, John W. Riely and T. Justin Moore, Jr.\n",
      "\n",
      "Milton D. Korman argued the cause for respondents in No. 4. With him on the brief were Vernon E. West, Chester H. Gray and Lyman J. Umstead. \n",
      "[349 U.S. 294, 297]\n",
      "\n",
      "Joseph Donald Craven, Attorney General of Delaware, argued the cause for petitioners in No. 5. On the brief were H. Albert Young, then Attorney General, Clarence W. Taylor, Deputy Attorney General, and Andrew D. Christie, Special Deputy to the Attorney General.\n",
      "\n",
      "In response to the Court's invitation, \n",
      "347 \n",
      "U.S. 483, 495-496, Solicitor General Sobeloff participated in the oral argument for the United States. With him on the brief were Attorney General Brownell, Assistant Attorney General Rankin, Philip Elman, Ralph S. Spritzer and Alan S. Rosenthal.\n",
      "\n",
      "By invitation of the Court, \n",
      "347 \n",
      "U.S. 483, 496, the following State officials presented their views orally as amici curiae: Thomas J. Gentry, Attorney General of Arkansas, with whom on the brief were James L. Sloan, Assistant Attorney General, and Richard B. McCulloch, Special Assistant Attorney General. Richard W. Ervin, Attorney General of Florida, and Ralph E. Odum, Assistant Attorney General, both of whom were also on a brief. C. Ferdinand Sybert, Attorney General of Maryland, with whom on the brief were Edward D. E. Rollins, then Attorney General, W. Giles Parker, Assistant Attorney General, and James H. Norris, Jr., Special Assistant Attorney General. I. Beverly Lake, Assistant Attorney General of North Carolina, with whom on the brief were Harry McMullan, Attorney General, and T. Wade Bruton, Ralph Moody and Claude L. Love, Assistant Attorneys General. Mac Q. Williamson, Attorney General of Oklahoma, who also filed a brief. John Ben Shepperd, Attorney General of Texas, and Burnell Waldrep, Assistant Attorney General, with whom on the brief were Billy E. Lee, J. A. Amis, Jr., L. P. Lollar, J. Fred Jones, John Davenport, John Reeves and Will Davis.\n",
      "\n",
      "Phineas Indritz filed a brief for the American Veterans Committee, Inc., as amicus curiae. \n",
      "[349 U.S. 294, 298]\n",
      "\n",
      "MR. CHIEF JUSTICE WARREN delivered the opinion of the Court.\n",
      "\n",
      "These cases were decided on May 17, 1954. The opinions of that date,\n",
      "1 declaring the fundamental principle that racial discrimination in public education is unconstitutional, are incorporated herein by reference. All provisions of federal, state, or local law requiring or permitting such discrimination must yield to this principle. There remains for consideration the manner in which relief is to be accorded.\n",
      "\n",
      "Because these cases arose under different local conditions and their disposition will involve a variety of local problems, we requested further argument on the question of relief.\n",
      "2 In view of the nationwide importance of the decision, we invited the Attorney General of the United \n",
      "[349 U.S. 294, 299] States and the Attorneys General of all states requiring or permitting racial discrimination in public education to present their views on that question. The parties, the United States, and the States of Florida, North Carolina, Arkansas, Oklahoma, Maryland, and Texas filed briefs and participated in the oral argument.\n",
      "\n",
      "These presentations were informative and helpful to the Court in its consideration of the complexities arising from the transition to a system of public education freed of racial discrimination. The presentations also demonstrated that substantial steps to eliminate racial discrimination in public schools have already been taken, not only in some of the communities in which these cases arose, but in some of the states appearing as amici curiae, and in other states as well. Substantial progress has been made in the District of Columbia and in the communities in Kansas and Delaware involved in this litigation. The defendants in the cases coming to us from South Carolina and Virginia are awaiting the decision of this Court concerning relief.\n",
      "\n",
      "Full implementation\n"
     ]
    }
   ],
   "source": [
    "print(sample_text_2[:10000])"
   ]
  },
  {
   "cell_type": "markdown",
   "id": "cfaa0f7a",
   "metadata": {},
   "source": [
    "### Segmentation Technique 1 - AI21 Labs Segmentation API"
   ]
  },
  {
   "cell_type": "markdown",
   "id": "5f87c30d",
   "metadata": {},
   "source": [
    "We leverage LangChain to store the segments, as we suspect that the summaries will do better if we maintain memory of the segments that came before it for downstream summarization and analysis tasks."
   ]
  },
  {
   "cell_type": "code",
   "execution_count": 8,
   "id": "bc895d8f",
   "metadata": {},
   "outputs": [
    {
     "data": {
      "text/plain": [
       "[{'segmentText': 'United States Supreme Court\\nBROWN v. BOARD OF EDUCATION(1955)', 'segmentType': 'normal_text_short'},\n",
       " {'segmentText': 'No. 1\\nArgued: Decided: May 31, 1955\\n\\n\\n1.', 'segmentType': 'non_english'},\n",
       " {'segmentText': 'Racial discrimination in public education is unconstitutional, \\n347 \\nU.S. 483, 497, and all provisions of federal, state or local law requiring or permitting such discrimination must yield to this principle.\\n\\nP. 298.', 'segmentType': 'normal_text_short'},\n",
       " {'segmentText': '2. The judgments below (except that in the Delaware case) are reversed and the cases are remanded to the District Courts to take such proceedings and enter such orders and decrees consistent with this opinion as are necessary and proper to admit the parties to these cases to public schools on a racially nondiscriminatory basis with all deliberate speed.', 'segmentType': 'normal_text'},\n",
       " {'segmentText': 'P. 301.\\n\\n(a) School authorities have the primary responsibility for elucidating, assessing and solving the varied local school problems which may require solution in fully implementing the governing constitutional principles.\\n\\nP. 299.\\n\\n(b) Courts will have to consider whether the action of school authorities constitutes good faith implementation of the governing constitutional principles.\\n\\nP. 299.\\n\\n(c) Because of their proximity to local conditions and the possible need for further hearings, the courts which originally heard these cases can best perform this judicial appraisal.\\n\\nP. 299.\\n\\n(d) In fashioning and effectuating the decrees, the courts will be guided by equitable principles - characterized by a practical flexibility in shaping remedies and a facility for adjusting and reconciling public and private needs.\\n\\nP. 300.\\n\\n[349 U.S. 294, 295]\\n\\n\\n (e) At stake is the personal interest of the plaintiffs in admission to public schools as soon as practicable on a nondiscriminatory basis.\\n\\nP. 300.', 'segmentType': 'normal_text'},\n",
       " {'segmentText': '(f) Courts of equity may properly take into account the public interest in the elimination in a systematic and effective manner of a variety of obstacles in making the transition to school systems operated in accordance with the constitutional principles enunciated in \\n347 \\nU.S. 483, 497; but the vitality of these constitutional principles cannot be allowed to yield simply because of disagreement with them.\\n\\nP. 300.\\n\\n(g) While giving weight to these public and private considerations, the courts will require that the defendants make a prompt and reasonable start toward full compliance with the ruling of this Court.\\n\\nP. 300.\\n\\n(h) Once such a start has been made, the courts may find that additional time is necessary to carry out the ruling in an effective manner.\\n\\nP. 300.\\n\\n(i) The burden rests on the defendants to establish that additional time is necessary in the public interest and is consistent with good faith compliance at the earliest practicable date.\\n\\nP. 300.\\n\\n(j) The courts may consider problems related to administration, arising from the physical condition of the school plant, the school transportation system, personnel, revision of school districts and attendance areas into compact units to achieve a system of determining admission to the public schools on a nonracial basis, and revision of local laws and regulations which may be necessary in solving the foregoing problems.\\n\\nPp.', 'segmentType': 'normal_text'},\n",
       " {'segmentText': '300-301.', 'segmentType': 'non_english'},\n",
       " {'segmentText': '(k) The courts will also consider the adequacy of any plans the defendants may propose to meet these problems and to effectuate a transition to a racially nondiscriminatory school system.\\n\\nP. 301.\\n\\n(l) During the period of transition, the courts will retain jurisdiction of these cases.', 'segmentType': 'normal_text'},\n",
       " {'segmentText': 'P. 301.\\n\\n\\n3.', 'segmentType': 'non_english'},\n",
       " {'segmentText': 'The judgment in the Delaware case, ordering the immediate admission of the plaintiffs to schools previously attended only by white children, is affirmed on the basis of the principles stated by this Court in its opinion, \\n347 \\nU.S. 483; but the case is remanded to the Supreme Court of Delaware for such further proceedings as that Court may deem necessary in the light of this opinion.\\n\\nP. 301.\\n\\n98 F. Supp.\\n\\n797, 103 F. Supp.\\n\\n920, 103 F. Supp.\\n\\n337 and judgment in No. 4, reversed and remanded.\\n\\n91 A. 2d 137, affirmed and remanded.\\n\\n[Footnote *] Together with No. 2, Briggs et al.\\n\\nv. Elliott et al., on appeal from the United States District Court for the Eastern District of South Carolina; No. 3\\n\\n, Davis et al.\\n\\nv. County School Board of Prince Edward County, Virginia, et al., on appeal from the United States District Court for the Eastern District of Virginia; No. 4,\\n\\nBolling et al.\\n\\nv. Sharpe et al., on certiorari to the United States Court of Appeals for the District of Columbia Circuit; and No. 5, Gebhart et al.\\n\\nv. Belton et al., on certiorari to the Supreme Court of Delaware.\\n\\n[349 U.S. 294, 296]\\n\\nRobert L. Carter argued the cause for appellants in No. 1.\\n\\nSpottswood W. Robinson, III, argued the causes for appellants in Nos. 2 and 3.\\n\\nGeorge E. C. Hayes and James M. Nabrit, Jr. argued the cause for petitioners in No. 4.\\n\\nLouis L. Redding argued the cause for respondents in No. 5.', 'segmentType': 'normal_text'},\n",
       " {'segmentText': 'Thurgood Marshall argued the causes for appellants in Nos. 1, 2 and 3, petitioners in No. 4 and respondents in No. 5.\\n\\nOn the briefs were Harold Boulware, Robert L. Carter, Jack Greenberg, Oliver W. Hill, Thurgood Marshall, Louis L. Redding, Spottswood W. Robinson, III, Charles S. Scott, William T. Coleman, Jr., Charles T. Duncan, George E. C. Hayes, Loren Miller, William R. Ming, Jr., Constance Baker Motley, James M. Nabrit, Jr., Louis H. Pollak and Frank D. Reeves for appellants in Nos. 1, 2 and 3, and respondents in No. 5; and George E. C. Hayes, James M. Nabrit, Jr., George M. Johnson, Charles W. Quick, Herbert O. Reid, Thurgood Marshall and Robert L. Carter for petitioners in No. 4.', 'segmentType': 'normal_text'},\n",
       " {'segmentText': 'Harold R. Fatzer, Attorney General of Kansas, argued the cause for appellees in No. 1.\\n\\nWith him on the brief was Paul E. Wilson, Assistant Attorney General.\\n\\nPeter F. Caldwell filed a brief for the Board of Education of Topeka, Kansas, appellee.\\n\\nS. E. Rogers and Robert McC. Figg, Jr. argued the cause and filed a brief for appellees in No. 2.', 'segmentType': 'normal_text'},\n",
       " {'segmentText': 'J. Lindsay Almond, Jr., Attorney General of Virginia, and Archibald G. Robertson argued the cause for appellees in No. 3.\\n\\nWith them on the brief were Henry T. Wickham, Special Assistant to the Attorney General, T. Justin Moore, John W. Riely and T. Justin Moore, Jr.\\n\\nMilton D. Korman argued the cause for respondents in No. 4.\\n\\nWith him on the brief were Vernon E. West, Chester H. Gray and Lyman J. Umstead.\\n\\n[349 U.S. 294, 297]\\n\\nJoseph Donald Craven, Attorney General of Delaware, argued the cause for petitioners in No. 5.\\n\\nOn the brief were H. Albert Young, then Attorney General, Clarence W. Taylor, Deputy Attorney General, and Andrew D. Christie, Special Deputy to the Attorney General.', 'segmentType': 'normal_text'},\n",
       " {'segmentText': \"In response to the Court's invitation, \\n347 \\nU.S. 483, 495-496, Solicitor General Sobeloff participated in the oral argument for the United States.\\n\\nWith him on the brief were Attorney General Brownell, Assistant Attorney General Rankin, Philip Elman, Ralph S. Spritzer and Alan S. Rosenthal.\", 'segmentType': 'normal_text'},\n",
       " {'segmentText': 'By invitation of the Court, \\n347 \\nU.S. 483, 496, the following State officials presented their views orally as amici curiae:', 'segmentType': 'normal_text_short'},\n",
       " {'segmentText': 'Thomas J. Gentry, Attorney General of Arkansas, with whom on the brief were James L. Sloan, Assistant Attorney General, and Richard B. McCulloch, Special Assistant Attorney General.', 'segmentType': 'normal_text_short'},\n",
       " {'segmentText': 'Richard W. Ervin, Attorney General of Florida, and Ralph E. Odum, Assistant Attorney General, both of whom were also on a brief.', 'segmentType': 'normal_text_short'},\n",
       " {'segmentText': 'C. Ferdinand Sybert, Attorney General of Maryland, with whom on the brief were Edward D. E. Rollins, then Attorney General, W. Giles Parker, Assistant Attorney General, and James H. Norris, Jr., Special Assistant Attorney General.', 'segmentType': 'normal_text_short'},\n",
       " {'segmentText': 'I. Beverly Lake, Assistant Attorney General of North Carolina, with whom on the brief were Harry McMullan, Attorney General, and T. Wade Bruton, Ralph Moody and Claude L. Love, Assistant Attorneys General.', 'segmentType': 'normal_text_short'},\n",
       " {'segmentText': 'Mac Q. Williamson, Attorney General of Oklahoma, who also filed a brief.', 'segmentType': 'normal_text_short'},\n",
       " {'segmentText': 'John Ben Shepperd, Attorney General of Texas, and Burnell Waldrep, Assistant Attorney General, with whom on the brief were Billy E. Lee, J. A. Amis, Jr., L. P. Lollar, J. Fred Jones, John Davenport, John Reeves and Will Davis.', 'segmentType': 'normal_text_short'},\n",
       " {'segmentText': 'Phineas Indritz filed a brief for the American Veterans Committee, Inc., as amicus curiae.', 'segmentType': 'normal_text_short'},\n",
       " {'segmentText': '[349 U.S. 294, 298]\\n\\nMR.', 'segmentType': 'non_english'},\n",
       " {'segmentText': 'CHIEF JUSTICE WARREN delivered the opinion of the Court.\\n\\nThese cases were decided on May 17, 1954.\\n\\nThe opinions of that date,\\n1 declaring the fundamental principle that racial discrimination in public education is unconstitutional, are incorporated herein by reference.\\n\\nAll provisions of federal, state, or local law requiring or permitting such discrimination must yield to this principle.\\n\\nThere remains for consideration the manner in which relief is to be accorded.\\n\\nBecause these cases arose under different local conditions and their disposition will involve a variety of local problems, we requested further argument on the question of relief.', 'segmentType': 'normal_text'},\n",
       " {'segmentText': '2 In view of the nationwide importance of the decision, we invited the Attorney General of the United \\n[349 U.S. 294, 299] States and the Attorneys General of all states requiring or permitting racial discrimination in public education to present their views on that question.\\n\\nThe parties, the United States, and the States of Florida, North Carolina, Arkansas, Oklahoma, Maryland, and Texas filed briefs and participated in the oral argument.\\n\\nThese presentations were informative and helpful to the Court in its consideration of the complexities arising from the transition to a system of public education freed of racial discrimination.\\n\\nThe presentations also demonstrated that substantial steps to eliminate racial discrimination in public schools have already been taken, not only in some of the communities in which these cases arose, but in some of the states appearing as amici curiae, and in other states as well.\\n\\nSubstantial progress has been made in the District of Columbia and in the communities in Kansas and Delaware involved in this litigation.\\n\\nThe defendants in the cases coming to us from South Carolina and Virginia are awaiting the decision of this Court concerning relief.', 'segmentType': 'normal_text'},\n",
       " {'segmentText': 'Full implementation of these constitutional principles may require solution of varied local school problems.\\n\\nSchool authorities have the primary responsibility for elucidating, assessing, and solving these problems; courts will have to consider whether the action of school authorities constitutes good faith implementation of the governing constitutional principles.\\n\\nBecause of their proximity to local conditions and the possible need for further hearings, the courts which originally heard these cases can best perform this judicial appraisal.\\n\\nAccordingly, we believe it appropriate to remand the cases to those courts.', 'segmentType': 'normal_text'},\n",
       " {'segmentText': '3\\n[349 U.S. 294, 300]\\n\\nIn fashioning and effectuating the decrees, the courts will be guided by equitable principles.\\n\\nTraditionally, equity has been characterized by a practical flexibility in shaping its remedies\\n4 and by a facility for adjusting and reconciling public and private needs.\\n\\n5 These cases call for the exercise of these traditional attributes of equity power.\\n\\nAt stake is the personal interest of the plaintiffs in admission to public schools as soon as practicable on a nondiscriminatory basis.\\n\\nTo effectuate this interest may call for elimination of a variety of obstacles in making the transition to school systems operated in accordance with the constitutional principles set forth in our May 17, 1954, decision.\\n\\nCourts of equity may properly take into account the public interest in the elimination of such obstacles in a systematic and effective manner.\\n\\nBut it should go without saying that the vitality of these constitutional principles cannot be allowed to yield simply because of disagreement with them.', 'segmentType': 'normal_text'},\n",
       " {'segmentText': 'While giving weight to these public and private considerations, the courts will require that the defendants make a prompt and reasonable start toward full compliance with our May 17, 1954, ruling.\\n\\nOnce such a start has been made, the courts may find that additional time is necessary to carry out the ruling in an effective manner.\\n\\nThe burden rests upon the defendants to establish that such time is necessary in the public interest and is consistent with good faith compliance at the earliest practicable date.\\n\\nTo that end, the courts may consider problems related to administration, arising from the physical condition of the school plant, the school transportation system, personnel, revision of school districts and attendance areas into compact units to achieve a system of determining admission to the public schools [349 U.S. 294, 301] on a nonracial basis, and revision of local laws and regulations which may be necessary in solving the foregoing problems.\\n\\nThey will also consider the adequacy of any plans the defendants may propose to meet these problems and to effectuate a transition to a racially nondiscriminatory school system.\\n\\nDuring this period of transition, the courts will retain jurisdiction of these cases.', 'segmentType': 'normal_text'},\n",
       " {'segmentText': 'The judgments below, except that in the Delaware case, are accordingly reversed and the cases are remanded to the District Courts to take such proceedings and enter such orders and decrees consistent with this opinion as are necessary and proper to admit to public schools on a racially nondiscriminatory basis with all deliberate speed the parties to these cases.', 'segmentType': 'normal_text'},\n",
       " {'segmentText': 'The judgment in the Delaware case - ordering the immediate admission of the plaintiffs to schools previously attended only by white children - is affirmed on the basis of the principles stated in our May 17, 1954, opinion, but the case is remanded to the Supreme Court of Delaware for such further proceedings as that Court may deem necessary in light of this opinion.\\n\\nIt is so ordered.\\n\\nFootnotes', 'segmentType': 'normal_text'},\n",
       " {'segmentText': '[Footnote 1] \\n347 \\nU.S. 483; \\n347 \\nU.S. 497.', 'segmentType': 'non_english'},\n",
       " {'segmentText': '[Footnote 2] Further argument was requested on the following questions, \\n347 \\nU.S. 483, 495-496, n. 13, previously propounded by the Court: \"4.\\n\\nAssuming it is decided that segregation in public schools violates the Fourteenth Amendment \"(a) would a decree necessarily follow providing that, within the limits set by normal geographic school districting, Negro children should forthwith be admitted to schools of their choice, or \"(b) may this Court, in the exercise of its equity powers, permit an effective gradual adjustment to be brought about from existing segregated systems to a system not based on color distinctions?', 'segmentType': 'normal_text'},\n",
       " {'segmentText': '\"5.', 'segmentType': 'normal_text_short'},\n",
       " {'segmentText': 'On the assumption on which questions 4 (a) and (b) are based, and assuming further that this Court will exercise its equity powers to the end described in question 4 (b), \"(a) should this Court formulate detailed decrees in these cases; \"(b) if so, what specific issues should the decrees reach; \"(c) should this Court appoint a special master to hear evidence with a view to recommending specific terms for such decrees; \"(d) should this Court remand to the courts of first instance with directions to frame decrees in these cases, and if so what general directions should the decrees of this Court include and what procedures should the courts of first instance follow in arriving at the specific terms of more detailed decrees?\"\\n\\n\\n[Footnote 3]', 'segmentType': 'normal_text'},\n",
       " {'segmentText': 'The cases coming to us from Kansas, South Carolina, and Virginia were originally heard by three-judge District Courts convened under 28 U.S.C. 2281 and 2284.\\n\\nThese cases will accordingly be remanded to those three-judge courts.', 'segmentType': 'normal_text_short'},\n",
       " {'segmentText': 'See Briggs v. Elliott, \\n342 \\nU.S. 350.', 'segmentType': 'non_english'},\n",
       " {'segmentText': '[Footnote 4] See Alexander v. Hillman, \\n296 \\nU.S. 222, 239.', 'segmentType': 'normal_text_short'},\n",
       " {'segmentText': '[Footnote 5] See Hecht Co. v. Bowles, \\n321 \\nU.S. 321, 329-330.\\n\\n[349 \\nU.S. 294, 302]', 'segmentType': 'non_english'}]"
      ]
     },
     "execution_count": 8,
     "metadata": {},
     "output_type": "execute_result"
    }
   ],
   "source": [
    "from ai21 import Segmentation\n",
    "response = ai21.Segmentation.execute(\n",
    "    source=sample_text_2,\n",
    "    sourceType=\"TEXT\")\n",
    "\n",
    "segments_1_case_2 = response['segments']\n",
    "segments_1_case_2"
   ]
  },
  {
   "cell_type": "code",
   "execution_count": 9,
   "id": "a6c35e92",
   "metadata": {},
   "outputs": [
    {
     "name": "stdout",
     "output_type": "stream",
     "text": [
      "38\n"
     ]
    }
   ],
   "source": [
    "print(len(segments_1_case_2))"
   ]
  },
  {
   "cell_type": "markdown",
   "id": "c3a62307",
   "metadata": {},
   "source": [
    "This returned many segments (177 for our sample case). It struggled on certain legal notes, classifying as \"non-english\". \n",
    "\n",
    "This may be difficult to summarize effectively, because it created so many segments. \n",
    "\n",
    "To attempt to summarize this, we will leverage LangChain and a call to AI21 Labs Jurassic Ultra model. We used a prompt template to encourage the model to leverage previous segments when building a summary. \n",
    "\n",
    "**[TODO] -- The below code summarizes plantiff's arguments, I think we can make it more general and then use the output to summarize specific use cases below. This will limit API calls.**"
   ]
  },
  {
   "cell_type": "code",
   "execution_count": 49,
   "id": "62d24994",
   "metadata": {},
   "outputs": [
    {
     "name": "stdout",
     "output_type": "stream",
     "text": [
      "Completed in 221.272056642003 seconds\n",
      "{'output_text': 'Thurgood Marshall, chief counsel for the NAACP, argued the '\n",
      "                'case before the Supreme Court\\n'\n",
      "                '- The parties, the United States, and the States of Florida, '\n",
      "                'North Carolina, Arkansas, Oklahoma, Maryland, and Texas filed '\n",
      "                'briefs and participated in the oral argument\\n'\n",
      "                '- The judgment in the Delaware case - ordering the immediate '\n",
      "                'admission of the plaintiffs to schools previously attended '\n",
      "                'only by white children - is affirmed on the basis of the '\n",
      "                'principles stated in our May 17, 1954, opinion, but the case '\n",
      "                'is remanded to the Supreme Court of Delaware for such further '\n",
      "                'proceedings as that Court may deem necessary in light of this '\n",
      "                'opinion.\\n'\n",
      "                '- It is so ordered.\\n'\n",
      "                '- The cases coming to us from Kansas, South Carolina, and '\n",
      "                'Virginia were originally heard by three-judge District Courts '\n",
      "                'convened under 28 U.S.C. 2281 and 2284.\\n'\n",
      "                '- These cases will accordingly be remanded to those '\n",
      "                'three-judge courts.'}\n"
     ]
    }
   ],
   "source": [
    "from langchain.chains import LLMChain\n",
    "from langchain.docstore.document import Document\n",
    "from langchain.llms import AI21\n",
    "from langchain.prompts import PromptTemplate\n",
    "from langchain.chains.summarize import load_summarize_chain\n",
    "from pprint import pprint\n",
    "from time import perf_counter\n",
    "\n",
    "prompt_template = \"\"\"You are a judge analyzing the petitioner argument. Process the following text\\\n",
    "and return a markdown formatted list of the key facts supporting the petitioner's case:\n",
    "{text}\n",
    "Your answer should be in markdown list form.\n",
    "Your focus is on the facts of the case.\n",
    "Your response should look like this sample response:\n",
    "<sample response>\n",
    "- the defendant's girlfriend testifies that she was with the defendant at the time\n",
    "- the expert testifies that the damage was consistent with a automobile impact\n",
    "</sample response>\\n\n",
    "LIST OF PETITIONER FACTS:\\n\n",
    "- \"\"\"\n",
    "prompt = PromptTemplate.from_template(prompt_template)\n",
    "\n",
    "llm = AI21(model=\"j2-jumbo-instruct\",\n",
    "            ai21_api_key=api_key,\n",
    "            numResults=1,\n",
    "            maxTokens=300,\n",
    "            temperature=0.1,\n",
    "            # topKReturn=0,\n",
    "            topP=.1,\n",
    "          )\n",
    "\n",
    "refine_template = (\n",
    "    \"Your job is to produce a final listing of the facts supporting the petitioner's case.\\n\"\n",
    "    \"Your focus is on the facts of the case.\"\n",
    "    \"We have provided an existing list of facts up to a certain point: {existing_answer}\\n\"\n",
    "    \"We have the opportunity to refine the existing list of facts\"\n",
    "    \"(only if needed) with some more context below.\\n\"\n",
    "    \"------------\\n\"\n",
    "    \"{text}\\n\"\n",
    "    \"------------\\n\"\n",
    "    \"Given the new context, refine the original list of facts with the addition of new facts.\\n\"\n",
    "    \"If the context isn't useful, return the original list of facts.\\n\"\n",
    "    \"Return your answer as a markdown list.\\n\"\n",
    "    \"Your response should look like this sample response:\"\n",
    "    \"<sample response>\"\n",
    "    \"- the defendant's girlfriend testifies that she was with the defendant at the time\\n\"\n",
    "    \"- the expert testifies that the damage was consistent with a automobile impact\\n\"\n",
    "    \"</sample response>\"\n",
    "    \"LIST OF PLAINTIFF FACTS:\\n\"\n",
    "    \"- \"\n",
    ")\n",
    "\n",
    "def response_to_documents(segments):\n",
    "\n",
    "    Document(\n",
    "        page_content=\"text\",\n",
    "        metadata={\"source\": \"local\"}\n",
    "    )\n",
    "\n",
    "    return [\n",
    "        Document(page_content=it['segmentText']) for it in segments]\n",
    "\n",
    "def extract_plaintiff_arguments(segments):\n",
    "    tick = perf_counter()\n",
    "    refine_prompt = PromptTemplate.from_template(refine_template)\n",
    "    chain = load_summarize_chain(\n",
    "        llm=llm,\n",
    "        chain_type=\"refine\",\n",
    "        question_prompt=prompt,\n",
    "        refine_prompt=refine_prompt,\n",
    "        return_intermediate_steps=False,\n",
    "        input_key=\"input_documents\",\n",
    "        output_key=\"output_text\",\n",
    "    )\n",
    "    segment_docs = response_to_documents(segments)\n",
    "    result = chain({\"input_documents\": segment_docs}, return_only_outputs=True)\n",
    "    tock = perf_counter()\n",
    "    elapsed = tock - tick\n",
    "    print(f\"Completed in {elapsed} seconds\")\n",
    "    return result\n",
    "\n",
    "\n",
    "args = extract_plaintiff_arguments(segments_1_case_2)\n",
    "\n",
    "pprint(args)"
   ]
  },
  {
   "cell_type": "code",
   "execution_count": null,
   "id": "3daf973c",
   "metadata": {},
   "outputs": [],
   "source": [
    "pprint(args)"
   ]
  },
  {
   "cell_type": "markdown",
   "id": "654e6e13",
   "metadata": {},
   "source": [
    "## Segmentation Technique 2 -- LangChain RecursiveCharacterTextSplitter"
   ]
  },
  {
   "cell_type": "markdown",
   "id": "11cd6d00",
   "metadata": {},
   "source": [
    "First we use the LangChain Text Splitter to split the text into chunks. This technique resulted in fewer chunks or segments compared to AI21 Segmentation API."
   ]
  },
  {
   "cell_type": "code",
   "execution_count": 16,
   "id": "1716cec9",
   "metadata": {},
   "outputs": [],
   "source": [
    "from langchain.text_splitter import RecursiveCharacterTextSplitter\n",
    "\n",
    "# split first text value using langchain\n",
    "text_splitter = RecursiveCharacterTextSplitter(\n",
    "    chunk_size = 2000,\n",
    "    chunk_overlap  = 100,\n",
    "    length_function = len,\n",
    "    is_separator_regex = False,\n",
    ")\n",
    "\n",
    "chunks = text_splitter.create_documents([sample_text_2])"
   ]
  },
  {
   "cell_type": "code",
   "execution_count": 17,
   "id": "37368349",
   "metadata": {},
   "outputs": [
    {
     "name": "stdout",
     "output_type": "stream",
     "text": [
      "page_content='United States Supreme Court\\nBROWN v. BOARD OF EDUCATION(1955)\\nNo. 1\\nArgued: Decided: May 31, 1955\\n\\n\\n1. \\nRacial discrimination in public education is unconstitutional, \\n347 \\nU.S. 483, 497, and all provisions of federal, state or local law requiring or permitting such discrimination must yield to this principle. P. 298.\\n\\n2. \\nThe judgments below (except that in the Delaware case) are reversed and the cases are remanded to the District Courts to take such proceedings and enter such orders and decrees consistent with this opinion as are necessary and proper to admit the parties to these cases to public schools on a racially nondiscriminatory basis with all deliberate speed. P. 301.\\n\\n (a) School authorities have the primary responsibility for elucidating, assessing and solving the varied local school problems which may require solution in fully implementing the governing constitutional principles. P. 299.\\n\\n\\n (b) Courts will have to consider whether the action of school authorities constitutes good faith implementation of the governing constitutional principles. P. 299.\\n\\n\\n (c) Because of their proximity to local conditions and the possible need for further hearings, the courts which originally heard these cases can best perform this judicial appraisal. P. 299.\\n\\n\\n (d) In fashioning and effectuating the decrees, the courts will be guided by equitable principles - characterized by a practical flexibility in shaping remedies and a facility for adjusting and reconciling public and private needs. P. 300. \\n[349 U.S. 294, 295]\\n\\n\\n (e) At stake is the personal interest of the plaintiffs in admission to public schools as soon as practicable on a nondiscriminatory basis. P. 300.'\n"
     ]
    }
   ],
   "source": [
    "print(chunks[0])"
   ]
  },
  {
   "cell_type": "code",
   "execution_count": 18,
   "id": "73fb7e44",
   "metadata": {},
   "outputs": [
    {
     "data": {
      "text/plain": [
       "9"
      ]
     },
     "execution_count": 18,
     "metadata": {},
     "output_type": "execute_result"
    }
   ],
   "source": [
    "len(chunks)"
   ]
  },
  {
   "cell_type": "markdown",
   "id": "90b9c99e",
   "metadata": {},
   "source": [
    "## Summarize Segments\n",
    "Now we will use AI21 Labs Ultra to summarize each chunk, and build a list of summaries. "
   ]
  },
  {
   "cell_type": "code",
   "execution_count": 31,
   "id": "3007f2ea",
   "metadata": {},
   "outputs": [],
   "source": [
    "# summarize text using ai21 labs j2 ultra llm\n",
    "def summarize_text(chunk):\n",
    "    prompt_template = f\"\"\"You are an experienced legal scholar.\n",
    "        Summarize the follow section of a court case document contained in the <document> tags below in a concise grammatically correct paragraph format.\n",
    "        Write the summary so an average person can clearly understand the output.\n",
    "\n",
    "        <document>\n",
    "        {chunk}\n",
    "        </document>\"\"\"\n",
    "    \n",
    "    response = ai21.Completion.execute(\n",
    "        model=\"j2-ultra\",\n",
    "        prompt=prompt_template,\n",
    "        maxTokens=200,\n",
    "        temperature=0.2,\n",
    "        stopSequences=[\"##\"]\n",
    "    )\n",
    "    \n",
    "    summary = response[\"completions\"][0][\"data\"][\"text\"]\n",
    "    \n",
    "    return summary"
   ]
  },
  {
   "cell_type": "code",
   "execution_count": 32,
   "id": "6fdbebed",
   "metadata": {},
   "outputs": [
    {
     "name": "stdout",
     "output_type": "stream",
     "text": [
      "CPU times: user 315 ms, sys: 20 ms, total: 335 ms\n",
      "Wall time: 19.7 s\n"
     ]
    }
   ],
   "source": [
    "%%time\n",
    "\n",
    "# summarize each text chunk and add to list of summaries\n",
    "summaries = []\n",
    "\n",
    "for index, chunk in enumerate(chunks):\n",
    "    summary = summarize_text(dict(chunk)[\"page_content\"])\n",
    "    summaries.append(f\"\"\"{summary.strip()}\\n\\n\"\"\")\n",
    "    print(f\"Summarizing chunk: {index + 1}\", end=\"\\r\")"
   ]
  },
  {
   "cell_type": "code",
   "execution_count": 33,
   "id": "9adc5480",
   "metadata": {},
   "outputs": [
    {
     "name": "stdout",
     "output_type": "stream",
     "text": [
      "\n",
      "----\n",
      "The United States Supreme Court decided in Brown v. Board of Education that racial discrimination in public education is unconstitutional. The court reversed the judgments below (except in the Delaware case) and remanded the cases to the District Courts to take such proceedings and enter such orders and decrees consistent with this opinion as are necessary and proper to admit the parties to public schools on a racially nondiscriminatory basis with all deliberate speed. School authorities have the primary responsibility for elucidating, assessing and solving the varied local school problems which may require solution in fully implementing the governing constitutional principles.\n",
      "\n",
      "----\n",
      "In this case, the court is requiring the defendants to make a prompt and reasonable start toward full compliance with the ruling of the court. The burden rests on the defendants to establish that additional time is necessary in the public interest and is consistent with good faith compliance at the earliest practicable date. The court will consider problems related to administration, arising from the physical condition of the school plant, the school transportation system, personnel, revision of school districts and attendance areas, and revision of local laws and regulations. The court will also consider the adequacy of any plans the defendants propose to meet these problems and to effectuate a transition to a racially nondiscriminatory school system.\n",
      "\n",
      "----\n",
      "This case is about segregation in schools. The court rules that segregation in schools is unconstitutional. The court also rules that during the transition process, the cases will still be under the court's jurisdiction.\n",
      "\n",
      "----\n",
      "This case involved several appeals and a petition related to the issue of segregation in public schools. The appellants and respondents in Nos. 1, 2, and 3 were represented by a group of lawyers that included Robert L. Carter, Thurgood Marshall, and Constance Baker Motley. The Board of Education of Topeka, Kansas, was represented by Peter F. Caldwell. S. E. Rogers and Robert McC. Figg, Jr. represented appellees in No. 2, and J. Lindsay Almond, Jr. and Archibald G. Robertson represented appellees in No. 3. Milton D. Korman represented respondents in No. 4, and Joseph Donald Craven represented petitioners in No. 5. Solicitor General Sobeloff also participated in the case on behalf of the United States.\n",
      "\n",
      "----\n",
      "Several state officials presented their views orally as amici curiae, including attorneys general from Arkansas, Florida, Maryland, North Carolina, Oklahoma, and Texas. The Court incorporated its previous decision that racial discrimination in public education is unconstitutional. All provisions of federal, state, or local law requiring or permitting such discrimination must yield to this principle.\n",
      "\n",
      "----\n",
      "In these cases, the court requested further argument on the question of relief because each case arose under different local conditions. The court invited the Attorney General of the United States and the Attorneys General of all states requiring or permitting racial discrimination in public education to present their views. The court received briefs and participated in oral argument. The court was informed that substantial steps have already been taken to eliminate racial discrimination in public schools, not only in some of the communities where these cases arose, but also in some of the states appearing as amici curiae, and in other states as well.\n",
      "\n",
      "----\n",
      "The courts have ruled that school authorities have the primary responsibility for solving local school problems, and that courts will have to consider whether the action of school authorities constitutes good faith implementation of the governing constitutional principles. The cases will be remanded to the original courts, and these courts will be guided by equitable principles in fashioning and effectuating the decrees.\n",
      "\n",
      "----\n",
      "The Supreme Court ruled that the lower courts must require the defendants to make a prompt and reasonable start toward full compliance with their May 17, 1954 ruling, and may consider problems related to administration, arising from the physical condition of the school plant, the school transportation system, personnel, revision of school districts and attendance areas into compact units to achieve a system of determining admission to the public schools on a nonracial basis, and revision of local laws and regulations which may be necessary in solving the foregoing problems.\n",
      "\n",
      "----\n",
      "The Supreme Court is remanding the case back to the District Court with instructions to formulate a decree that will gradually adjust from segregated systems to a non-segregated system.\n"
     ]
    }
   ],
   "source": [
    "for chunk_summary in summaries:\n",
    "    print('\\n----\\n' + chunk_summary.strip())"
   ]
  },
  {
   "cell_type": "markdown",
   "id": "fb9a4257",
   "metadata": {},
   "source": [
    "Let's see what the original chunks would look like for a comparison. "
   ]
  },
  {
   "cell_type": "code",
   "execution_count": 24,
   "id": "e90a48a6",
   "metadata": {},
   "outputs": [
    {
     "name": "stdout",
     "output_type": "stream",
     "text": [
      "CPU times: user 1.05 s, sys: 62.7 ms, total: 1.11 s\n",
      "Wall time: 48.2 s\n"
     ]
    }
   ],
   "source": [
    "%%time\n",
    "\n",
    "# summarize each text chunk and add to list of summaries\n",
    "summaries_segments_1_case_2 = []\n",
    "\n",
    "for index, segment in enumerate(segments_1_case_2):\n",
    "    if segment['segmentType'] != 'non_english':\n",
    "        summary = summarize_text(segment[\"segmentText\"])\n",
    "        summaries_segments_1_case_2.append(f\"\"\"{summary.strip()}\\n\\n\"\"\")\n",
    "    else:\n",
    "        summaries_segments_1_case_2.append(segment[\"segmentText\"])\n",
    "    print(f\"Summarizing chunk: {index + 1}\", end=\"\\r\")"
   ]
  },
  {
   "cell_type": "code",
   "execution_count": 25,
   "id": "9feea1d7",
   "metadata": {},
   "outputs": [
    {
     "name": "stdout",
     "output_type": "stream",
     "text": [
      "\n",
      "----\n",
      "This case was one of the most important in the history of the Court.\n",
      "Brown v. Board of Education was a landmark case in the United States that declared that segregation in schools was unconstitutional. This decision helped to pave the way for the civil rights movement and the eventual desegregation of all public facilities.\n",
      "\n",
      "\n",
      "\n",
      "----\n",
      "No. 1\n",
      "Argued: Decided: May 31, 1955\n",
      "\n",
      "\n",
      "1.\n",
      "\n",
      "----\n",
      "Racial discrimination in public education is unconstitutional, and all provisions of federal, state, or local laws requiring or permitting such discrimination must yield to this principle. This was decided in the case \"Brown v. Board of Education\", which was decided on 347 U.S. 483, 497.\n",
      "\n",
      "\n",
      "\n",
      "----\n",
      "The court cases below (except the one in Delaware) are reversed, and the cases will be remanded to the District Courts. These courts will need to take proceedings and enter orders and decrees consistent with this opinion, which are necessary and proper to admit the parties involved to public schools on a racially nondiscriminatory basis, with all deliberate speed.\n",
      "\n",
      "\n",
      "\n",
      "----\n",
      "School authorities have the primary responsibility for solving local school problems, and courts will consider if their actions are good faith implementation of the governing constitutional principles. Courts that originally heard these cases can best perform this appraisal, and will be guided by equitable principles in fashioning and effectuating decrees.\n",
      "\n",
      "\n",
      "\n",
      "----\n",
      "300-301.\n",
      "In this case, the court is requiring that the defendants make a prompt and reasonable start toward full compliance with its ruling. The burden rests on the defendants to establish that additional time is necessary in the public interest and is consistent with good faith compliance at the earliest practicable date. The courts may consider problems related to administration, arising from the physical condition of the school plant, the school transportation system, personnel, revision of school districts and attendance areas into compact units to achieve a system of determining admission to the public schools on a nonracial basis, and revision of local laws and regulations which may be necessary in solving the foregoing problems.\n",
      "\n",
      "\n",
      "\n",
      "----\n",
      "300-301.\n",
      "\n",
      "----\n",
      "The court will consider the adequacy of any plans the defendants propose to meet these problems and to effectuate a transition to a racially nondiscriminatory school system. During the transition period, the court will retain jurisdiction over the cases.\n",
      "\n",
      "\n",
      "\n",
      "----\n",
      "P. 301.\n",
      "\n",
      "\n",
      "3.\n",
      "\n",
      "----\n",
      "The court cases Briggs et al., Briggs v. Elliott et al.; Davis et al., Davis v. County School Board of Prince Edward County, Virginia, et al.; Bolling et al., Bolling v. Sharpe et al.; and Gebhart et al., Gebhart v. Belton et al., were combined into a single case, which was argued before the Supreme Court of the United States. The judgment in the Delaware case ordering the immediate admission of the plaintiffs to schools previously attended only by white children was affirmed, but the case was remanded to the Supreme Court of Delaware for further proceedings.\n",
      "\n",
      "\n",
      "\n",
      "----\n",
      "Thurgood Marshall argued the cases for appellants in Nos. 1, 2, and 3, and for respondents in No. 5. Various attorneys also argued the cases.\n",
      "\n",
      "\n",
      "\n",
      "----\n",
      "The case of Brown v. Board of Education (1954) involved a legal challenge to a public school segregation policy in Topeka, Kansas. The case was argued by Harold R. Fatzer, Attorney General of Kansas, and Paul E. Wilson, Assistant Attorney General. The Board of Education of Topeka, Kansas, was represented by Peter F. Caldwell. S. E. Rogers and Robert McC. Figg, Jr. argued the case on behalf of other appellees.\n",
      "\n",
      "\n",
      "\n",
      "----\n",
      "The attorneys general of Virginia and Delaware, along with their respective legal teams, argued the case on behalf of their respective parties.\n",
      "\n",
      "\n",
      "\n",
      "----\n",
      "The Solicitor General of the United States participated in oral argument on behalf of the United States, along with the Attorney General, the Assistant Attorney General, and other attorneys.\n",
      "\n",
      "\n",
      "\n",
      "----\n",
      "Several state officials presented their views as friends of the court.\n",
      "\n",
      "\n",
      "\n",
      "----\n",
      "The appellants in this case were the State of Arkansas and the Attorney General of Arkansas.\n",
      "\n",
      "\n",
      "\n",
      "----\n",
      "The Florida Attorney General and the Assistant Attorney General were also on the brief.\n",
      "\n",
      "\n",
      "\n",
      "----\n",
      "The Attorney General of Maryland, C. Ferdinand Sybert, was among those who submitted a brief in this case.\n",
      "\n",
      "\n",
      "\n",
      "----\n",
      "Beverly Lake, Assistant Attorney General of North Carolina, argued that the defendant's actions were illegal and should be punished.\n",
      "\n",
      "\n",
      "\n",
      "----\n",
      "The Oklahoma Attorney General also filed a brief in this case.\n",
      "\n",
      "\n",
      "\n",
      "----\n",
      "The attorney general of Texas, John Ben Shepperd, and the assistant attorney general, Burnell Waldrep, were among those who filed briefs in this case.\n",
      "\n",
      "\n",
      "\n",
      "----\n",
      "Phineas Indritz filed a brief on behalf of American Veterans Committee, Inc.\n",
      "\n",
      "\n",
      "\n",
      "----\n",
      "[349 U.S. 294, 298]\n",
      "\n",
      "MR.\n",
      "\n",
      "----\n",
      "The Supreme Court ruled on May 17, 1954 that racial discrimination in public education is unconstitutional. All laws requiring or permitting such discrimination must yield to this principle. How relief will be accorded is being considered.\n",
      "\n",
      "\n",
      "\n",
      "----\n",
      "The court heard arguments from all parties involved in these cases, including the United States and the Attorneys General from several states, and found that the presentations demonstrated that substantial steps have already been taken to eliminate racial discrimination in public schools in some states, including the District of Columbia, Kansas, and Delaware. The defendants in the cases coming from South Carolina and Virginia are awaiting the decision from the court concerning relief.\n",
      "\n",
      "\n",
      "\n",
      "----\n",
      "The courts must determine whether the school authorities are following the constitutional principles in good faith. Since these courts are closest to local conditions and may need to hold further hearings, they are best suited to make this assessment. Therefore, these cases are being sent back to those courts.\n",
      "\n",
      "\n",
      "\n",
      "----\n",
      "The court orders will be guided by the principles of equity in crafting and implementing the decrees. Equity has historically demonstrated flexibility in devising remedies and a willingness to balance public and private interests. These cases require the application of these traditional attributes of equity power. The personal interest of the plaintiffs in promptly enrolling in public schools on a non-discriminatory basis is at stake. To fulfill this interest, it may be necessary to remove various obstacles hindering the transition to school systems operated in accordance with constitutional principles established in a prior ruling. Courts may consider the public interest in systematically removing such obstacles. However, it should be emphasized that the vitality of these constitutional principles cannot be compromised due to disagreement with them.\n",
      "\n",
      "\n",
      "\n",
      "----\n",
      "The courts are requiring the defendants to make a prompt and reasonable start towards following the court's ruling of May 17, 1954. Once they have made this start, the courts may grant them more time to carry out the ruling effectively. It is up to the defendants to prove that this extra time is necessary and is being done in good faith. The courts will consider any issues that may arise during this time, including problems with school plant, transportation, personnel, school districts, attendance areas, and local laws and regulations. They will also review the adequacy of any plans the defendants propose to meet these problems and transition to a racially non-discriminatory school system. The courts will maintain jurisdiction over these cases during this transition period.\n",
      "\n",
      "\n",
      "\n",
      "----\n",
      "The court cases below, except for the Delaware case, are reversed and sent back to the District Courts. The District Courts are told to do what this opinion says to allow these students to go to school on a non-racial basis as fast as they can.\n",
      "\n",
      "\n",
      "\n",
      "----\n",
      "The Delaware case involved the desegregation of schools. The judgment in this case is affirmed, but the case has been remanded to the Supreme Court of Delaware for further proceedings.\n",
      "\n",
      "\n",
      "\n",
      "----\n",
      "[Footnote 1] \n",
      "347 \n",
      "U.S. 483; \n",
      "347 \n",
      "U.S. 497.\n",
      "\n",
      "----\n",
      "The questions raised by the Court concern the potential outcomes of a court decision that segregation in public schools violates the Fourteenth Amendment. The Court is considering whether it should issue a decree ordering the immediate desegregation of schools or whether it should allow for a gradual adjustment period.\n",
      "\n",
      "\n",
      "\n",
      "----\n",
      "The Defendant's Motion for Summary Judgment\n",
      "\n",
      "        The Defendant moves for summary judgment on all of Plaintiff's claims. The Defendant argues that the undisputed material facts establish that the Defendant is entitled to judgment as a matter of law.\n",
      "\n",
      "        The Defendant contends that Plaintiff's claims fail because the Defendant did not owe a duty of care to Plaintiff. The Defendant asserts that it did not create, modify, or control the hazard that caused Plaintiff's injuries.\n",
      "The Defendant asks the Court to dismiss the Plaintiff's claims and to enter judgment in the Defendant's favor.\"\n",
      "The Defendant argues that it did not owe a duty of care to the Plaintiff and therefore did not cause their injuries. They ask the court to dismiss the Plaintiff's claims and rule in their favor.\n",
      "\n",
      "\n",
      "\n",
      "----\n",
      "The assumption on which questions 4 (a) and (b) are based is that this Court will exercise its equity powers to the end described in question 4 (b).\n",
      "The court case document discusses various questions that need to be answered in order to formulate detailed decrees in the case. These questions include whether the court should exercise its equity powers to reach a specific end, whether a special master should be appointed to hear evidence and recommend specific terms for the decrees, and whether the court should remand the case to the courts of first instance with directions to frame decrees.\n",
      "\n",
      "\n",
      "\n",
      "----\n",
      "The cases from Kansas, South Carolina, and Virginia were originally heard by three-judge District Courts convened under 28 U.S.C. 2281 and 2284. They will be remanded to those courts.\n",
      "\n",
      "\n",
      "\n",
      "----\n",
      "See Briggs v. Elliott, \n",
      "342 \n",
      "U.S. 350.\n",
      "\n",
      "----\n",
      "The case of Alexander v. Hillman, 296 U.S. 222, 239, is cited as an authority.\n",
      "\n",
      "\n",
      "\n",
      "----\n",
      "[Footnote 5] See Hecht Co. v. Bowles, \n",
      "321 \n",
      "U.S. 321, 329-330.\n",
      "\n",
      "[349 \n",
      "U.S. 294, 302]\n"
     ]
    }
   ],
   "source": [
    "for segment_summary in summaries_segments_1_case_2:\n",
    "    print('\\n----\\n' + segment_summary.strip())"
   ]
  },
  {
   "cell_type": "markdown",
   "id": "6c6b7ee6",
   "metadata": {},
   "source": [
    "## Summarization and Analysis\n",
    "\n",
    "Here try out varous data summarization tasks, leveraging AI21 Labs Jurassic Ultra model. "
   ]
  },
  {
   "cell_type": "markdown",
   "id": "53317f9c",
   "metadata": {},
   "source": [
    "## Summarization of Segment Summaries"
   ]
  },
  {
   "cell_type": "code",
   "execution_count": 36,
   "id": "14654b6e",
   "metadata": {},
   "outputs": [],
   "source": [
    "# summarize a series of individual summaries using ai21 labs j2 ultra llm\n",
    "def summarize_summaries(summaries):\n",
    "    prompt_template = f\"\"\"You are an experienced legal scholar.\n",
    "        Summarize the follow court case document contained in the <document> tags below in a grammatically correct format.\n",
    "        Write the summary in five sentences so an average person can clearly understand the output.\n",
    "\n",
    "        <document>\n",
    "        {summaries}\n",
    "        </document>\"\"\"\n",
    "    \n",
    "    response = ai21.Completion.execute(\n",
    "        model=\"j2-ultra\",\n",
    "        prompt=prompt_template,\n",
    "        maxTokens=1000,\n",
    "        temperature=0.5,\n",
    "        stopSequences=[\"##\"]\n",
    "    )\n",
    "    \n",
    "    summary = response[\"completions\"][0][\"data\"][\"text\"]\n",
    "    \n",
    "    return summary.strip()"
   ]
  },
  {
   "cell_type": "markdown",
   "id": "39653f3e",
   "metadata": {},
   "source": [
    "## Summarize the LangChain Segment Summaries"
   ]
  },
  {
   "cell_type": "code",
   "execution_count": 37,
   "id": "a4c6cd5c",
   "metadata": {},
   "outputs": [
    {
     "name": "stdout",
     "output_type": "stream",
     "text": [
      "In Brown v. Board of Education, the Supreme Court ruled that segregation in schools is unconstitutional. The court also ruled that the cases will still be under the court's jurisdiction during the transition process. The court invited the Attorney General of the United States and the Attorneys General of all states to present their views. The court will consider problems related to administration, arising from the physical condition of the school plant, the school transportation system, personnel, revision of school districts and attendance areas, and revision of local laws and regulations.\n",
      "CPU times: user 37.7 ms, sys: 3.35 ms, total: 41.1 ms\n",
      "Wall time: 2.05 s\n"
     ]
    }
   ],
   "source": [
    "%%time\n",
    "\n",
    "# concat a single string of all chunk summaries\n",
    "list_of_summaries = \"\"\n",
    "\n",
    "for summary in summaries:\n",
    "    list_of_summaries += summary\n",
    "\n",
    "# create an overall summary\n",
    "summary_of_summaries = summarize_summaries(list_of_summaries)\n",
    "\n",
    "print(summary_of_summaries)"
   ]
  },
  {
   "cell_type": "markdown",
   "id": "39144c4c",
   "metadata": {},
   "source": [
    "## Summarize the AI21 Segment Summaries"
   ]
  },
  {
   "cell_type": "code",
   "execution_count": 43,
   "id": "6ff62615",
   "metadata": {},
   "outputs": [
    {
     "name": "stdout",
     "output_type": "stream",
     "text": [
      "The court case document discusses a court case called \"Brown v. Board of Education\", which was one of the most important in the history of the Court. The case declared that segregation in schools was unconstitutional and helped to pave the way for the civil rights movement. The court remanded the cases to the District Courts, which were instructed to take proceedings and enter orders and decrees consistent with this opinion, which are necessary and proper to admit the parties involved to public schools on a racially nondiscriminatory basis, with all deliberate speed. The court maintained jurisdiction over these cases during the transition period.\n",
      "CPU times: user 42.5 ms, sys: 3.42 ms, total: 45.9 ms\n",
      "Wall time: 2.94 s\n"
     ]
    }
   ],
   "source": [
    "%%time\n",
    "\n",
    "# concat a single string of all chunk summaries\n",
    "list_of_summaries_2 = \"\"\n",
    "\n",
    "for summary in summaries_segments_1_case_2:\n",
    "    list_of_summaries_2 += summary.strip('\\n')\n",
    "\n",
    "# create an overall summary\n",
    "summary_of_summaries_2 = summarize_summaries(list_of_summaries_2)\n",
    "\n",
    "print(summary_of_summaries_2)"
   ]
  },
  {
   "cell_type": "code",
   "execution_count": 44,
   "id": "21eff8d7",
   "metadata": {},
   "outputs": [
    {
     "data": {
      "text/plain": [
       "'The court case document discusses a court case called \"Brown v. Board of Education\", which was one of the most important in the history of the Court. The case declared that segregation in schools was unconstitutional and helped to pave the way for the civil rights movement. The court remanded the cases to the District Courts, which were instructed to take proceedings and enter orders and decrees consistent with this opinion, which are necessary and proper to admit the parties involved to public schools on a racially nondiscriminatory basis, with all deliberate speed. The court maintained jurisdiction over these cases during the transition period.'"
      ]
     },
     "execution_count": 44,
     "metadata": {},
     "output_type": "execute_result"
    }
   ],
   "source": [
    "summary_of_summaries_2"
   ]
  },
  {
   "cell_type": "markdown",
   "id": "7edc1baf",
   "metadata": {},
   "source": [
    "## Use AI21 Summarize API"
   ]
  },
  {
   "cell_type": "code",
   "execution_count": 48,
   "id": "87144418",
   "metadata": {},
   "outputs": [
    {
     "name": "stdout",
     "output_type": "stream",
     "text": [
      "The judgments below are reversed and the cases are remanded to the District Courts.\n",
      "The courts will have to consider whether the action of school authorities constitutes good faith implementation of the governing constitutional principles, and will be guided by equitable principles.\n",
      "The judgment in the Delaware case, ordering the immediate admission of the plaintiffs to schools previously attended only by white children, is affirmed, but the case is remanded to the Supreme Court of Delaware for further proceedings.\n",
      "CHIEF JUSTICE WARREN delivered the opinion of the Court in these cases, declaring that racial discrimination in public education is unconstitutional.\n",
      "In view of the nationwide importance of the decision, the Court invited the Attorney General of the United States and the Attorneys General of all states requiring or permitting racial discrimination in public education to present their views on the question.\n",
      "The courts which originally heard these cases can best perform this judicial appraisal because of their proximity to local conditions.\n",
      "In fashioning and effectuating the decrees, the courts will be guided by equitable principles, including the need to take into account the public interest in eliminating obstacles to admission to public schools.\n",
      "The courts may require additional time to carry out the May 17, 1954, ruling, but will consider the adequacy of any plans the defendants may propose to meet these problems and to effect a transition to a racially nondiscriminatory school system.\n",
      "The judgments below are reversed and the cases are remanded to the District Courts.\n",
      "The judgment in the Delaware case is affirmed, but the case is remanded to the Supreme Court of Delaware for further proceedings.\n",
      "Further argument was requested on the following questions: \"(a) would a decree necessarily follow if segregation in public schools violated the Fourteenth Amendment?\"\n",
      "On the assumption that this Court will exercise its equity powers to the end described in question 4 (b), should this Court formulate detailed decrees in these cases?\n"
     ]
    }
   ],
   "source": [
    "import json\n",
    "\n",
    "def summarize(text, focus=None):\n",
    "    response = ai21.Summarize.execute(\n",
    "        source=text,\n",
    "        sourceType=\"TEXT\",\n",
    "        focus=focus\n",
    "    )\n",
    "    return response['summary']\n",
    "\n",
    "print(summarize(sample_text_2, 'decision'))"
   ]
  },
  {
   "cell_type": "markdown",
   "id": "f04f9864",
   "metadata": {},
   "source": [
    "## We also iterated using Sumarize (with focus) and iterated over them with the full case text\n",
    "\n",
    "- **plaintiff**: The parties to these cases are remanded to the District Courts to take further proceedings.\n",
    "The plaintiffs' personal interest in admission to public schools is at stake, and the courts will be guided by equitable principles in fashioning and effecting the decrees.\n",
    "The courts will consider the defendants' plans to meet these problems.\n",
    "The Court affirmed the judgment in the Delaware case, ordering the immediate admission of the plaintiffs to schools previously attended only by white children, and remanded the case to the Supreme Court of Delaware for further proceedings.\n",
    "Harold R. Fatzer, Attorney General of Kansas, and Paul E. Wilson, Assistant Attorney General, argued the cause for appellees.\n",
    "The Court invited the Attorney General of the United States and the Attorneys General of all states requiring or permitting racial discrimination in public education to present their views on the nationwide importance of the decision.\n",
    "The plaintiffs in the Delaware case are ordered to be admitted to schools previously attended only by white children.\n",
    "\n",
    "- **respondant arguments**: Robert L. Carter argued the cause for appellants in No. 1, Spottswood W. Robinson, III argued the cause for petitioners in Nos. 2 and 3, George E. C. Hayes argued the cause for petitioners in No. 4, and Louis L. Redding argued the cause for respondents in No. 5.\n",
    "Thurgood Marshall argued the causes for appellants in Nos. 1, 2 and 3, petitioners in No. 4 and respondents in No. 5.\n",
    "Harold R. Fatzer, Attorney General of Kansas, argued the cause for appellees in No. 1.\n",
    "J. Lindsay Almond, Jr., Archibald G. Robertson, T. Justin Moore, John W. Riely, T. Justin Moore, Jr., Milton D. Korman, Vernon E. West, Chester H. Gray and Lyman J. Umstead argued the cause for respondents.\n",
    "The parties, the United States, and the States of Florida, North Carolina, Arkansas, Oklahoma, Maryland, and Texas presented their views on the question of whether racial discrimination in public schools should be eliminated.\n",
    "\n",
    "- **outcome**: The Court invited the Attorney General of the United States and the Attorneys General of all states requiring or permitting racial discrimination in public education to present their views on the question. Substantial progress has already been made in the District of Columbia and in Kansas and Delaware.\n",
    "\n",
    "- **judgement**: The judgments below are reversed and the cases are remanded to the District Courts.\n",
    "The courts will consider whether the action of school authorities constitutes good faith implementation of the governing constitutional principles, and will be guided by equitable principles.\n",
    "Courts of equity may consider problems related to administration, physical condition of the school plant, school transportation system, personnel, revision of school districts and attendance areas into compact units, and revision of local laws and regulations.\n",
    "The courts will retain jurisdiction of these cases during the period of transition.\n",
    "The judgment in the Delaware case, ordering the immediate admission of the plaintiffs to schools previously attended only by white children, is affirmed, but the case is remanded to the Supreme Court of Delaware for further proceedings.\n",
    "Thurgood Marshall argued the causes for appellants in Nos. 1, 2 and 3, petitioners in No. 4 and respondents in No. 5.\n",
    "J. Lindsay Almond, Jr., Archibald G. Robertson, Milton D. Korman, Vernon E. West, Chester H. Gray and Lyman J. Umstead argued the cause for appellees, and Joseph Donald Craven argued the cause for petitioners.\n",
    "CHIEF JUSTICE WARREN delivered the opinion of the Court, declaring that racial discrimination in public education is unconstitutional.\n",
    "In view of the nationwide importance of the decision, the Court invited the Attorney General of the United States and the Attorneys General of all states requiring or permitting racial discrimination in public education to present their views on the question.\n",
    "The courts should remand the cases to the courts that originally heard the cases to consider whether the school authorities' actions constitute good faith implementation of the constitutional principles.\n",
    "In fashioning and effectuating the decrees, the courts will be guided by equitable principles, and will take into account the public interest in eliminating obstacles to admission to public schools.\n",
    "The courts will consider the adequacy of any plans the defendants may propose to meet the problems related to administration, the physical condition of the school plant, the school transportation system, personnel, revision of school districts and attendance areas into compact units, and revision of local laws and regulations.\n",
    "The judgments below are reversed and the cases are remanded to the District Courts.\n",
    "The judgment in the Delaware case is affirmed, but the case is remanded to the Supreme Court of Delaware for further proceedings.\n",
    "\n",
    "- **dissenting judgement**: The dissenting judgements are reversed and the cases are remanded to the District Courts.\n",
    "The Court affirmed the judgment in the Delaware case, but remanded the case to the Supreme Court of Delaware for further proceedings.\n",
    "The courts will be guided by equitable principles in fashioning and effectuating the decrees, and will take into account the public interest in eliminating obstacles to admission to public schools.\n",
    "The dissenting judgements are reversed and the cases are remanded to the District Courts.\n",
    "\n",
    "- **footnotes**: The judgment in the Delaware case is affirmed, but the case is remanded to the Supreme Court of Delaware for further proceedings."
   ]
  },
  {
   "cell_type": "markdown",
   "id": "bc1462c3",
   "metadata": {},
   "source": [
    "# Conclusion\n",
    "\n",
    "1. Summarizing from a list of segements is challenging. For overall analysis, it is helpful for the model to have the entire context. Though prompt engineering and segment size.\n",
    "2. Challenges: Legal writing and references. Segmentation struggled with those references. Is this a case for fine-tuning, or simple regex?\n",
    "3. Techniques will be based on your different goals. \n",
    "\n",
    "For example: \n",
    "\n",
    "**Rag**  \n",
    "\n",
    "- Who is the plaintiff?\n",
    "- Who is the defendant?\n",
    "- What is this case about?\n",
    "- Why is this case important?\n",
    "- Summary of the judgement\n",
    "- Summary of dissenting argument\n",
    "  \n",
    "**Summarization**  \n",
    "\n",
    "*Map Reduce*  \n",
    "\n",
    "- Summarize the plaintiffs argument\n",
    "- Summarize the defendants argument\n",
    "  \n",
    "\n",
    "*Refine*\n",
    "\n",
    "- Extract the list of key points in the plaintiffs argument\n",
    "- Extract the list of key points in the defendants argument\n",
    "- Identify uncontested facts (occur in both arguments)\n",
    "- Identify contested facts (conflicts between the arguments)"
   ]
  },
  {
   "cell_type": "markdown",
   "id": "04704521-517a-4810-a8cf-ad329bb78b8b",
   "metadata": {},
   "source": []
  }
 ],
 "metadata": {
  "kernelspec": {
   "display_name": "Python 3 (ipykernel)",
   "language": "python",
   "name": "python3"
  },
  "language_info": {
   "codemirror_mode": {
    "name": "ipython",
    "version": 3
   },
   "file_extension": ".py",
   "mimetype": "text/x-python",
   "name": "python",
   "nbconvert_exporter": "python",
   "pygments_lexer": "ipython3",
   "version": "3.11.3"
  }
 },
 "nbformat": 4,
 "nbformat_minor": 5
}
